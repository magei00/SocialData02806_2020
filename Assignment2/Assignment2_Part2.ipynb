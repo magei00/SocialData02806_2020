{
 "cells": [
  {
   "cell_type": "code",
   "execution_count": 5,
   "metadata": {},
   "outputs": [],
   "source": [
    "import pprint\n",
    "import folium\n",
    "import pandas as pd\n",
    "import numpy as np\n",
    "import sklearn\n",
    "import datetime as dt\n",
    "from sklearn.tree import DecisionTreeClassifier\n",
    "from sklearn.ensemble import RandomForestClassifier\n",
    "from sklearn.model_selection import train_test_split\n",
    "from sklearn.pipeline import Pipeline\n",
    "from sklearn.model_selection import RandomizedSearchCV\n",
    "import warnings\n",
    "warnings.filterwarnings('ignore')"
   ]
  },
  {
   "cell_type": "markdown",
   "metadata": {},
   "source": [
    "# Predicting without weather data"
   ]
  },
  {
   "cell_type": "code",
   "execution_count": 123,
   "metadata": {},
   "outputs": [],
   "source": [
    "police_data = pd.read_csv(\"../police_data.csv\")"
   ]
  },
  {
   "cell_type": "code",
   "execution_count": 124,
   "metadata": {},
   "outputs": [],
   "source": [
    "police_data['Time'] = pd.to_datetime(police_data['Time'],format=\"%H:%M\")\n",
    "police_data['Date'] = pd.to_datetime(police_data['Date'],format=\"%m/%d/%Y\")"
   ]
  },
  {
   "cell_type": "code",
   "execution_count": 125,
   "metadata": {},
   "outputs": [],
   "source": [
    "police_data = police_data[(police_data['Date'] > '2012-10-01') & (police_data['Date'] < '2017-10-27')]\n",
    "\n",
    "new_pd = police_data[['Category', 'Date','Time','DayOfWeek','PdDistrict']]\n",
    "new_pd['Hour'] = new_pd['Time'].dt.hour\n",
    "new_pd['Month'] = new_pd['Date'].dt.month\n",
    "new_pd['Hour_of_week'] = new_pd['Date'].dt.dayofweek * 24 + (new_pd['Hour'] + 1)\n",
    "new_pd['DayOfWeek'] = new_pd['Date'].dt.dayofweek"
   ]
  },
  {
   "cell_type": "markdown",
   "metadata": {},
   "source": [
    "# Categories to use, framing the data\n",
    "\n",
    "We define two categories, burglary and fraud. These are chosen because we hypothesize that burglaries are very impacted by weather, while fraud is not, and we want to see if weather have any effect on these crimes.\n",
    "\n",
    "We use balanced datasets, with 10000 samples in each. We chose balanced simply because otherwise we might well have way too many burglary incidents compared to fraud, or the other way around, which would skew our model and ultimately impact later predictions. \n",
    "\n",
    "We then combine the datasets to one dataframe, which we then again split into training and testing sets."
   ]
  },
  {
   "cell_type": "code",
   "execution_count": 126,
   "metadata": {},
   "outputs": [],
   "source": [
    "burglaries = new_pd[(new_pd['Category'] == 'BURGLARY')]\n",
    "fraud = new_pd[(new_pd['Category'] == 'FRAUD')]\n",
    "\n",
    "balanced_burglaries = burglaries.sample(10000, random_state=1)\n",
    "balanced_fraud = fraud.sample(10000, random_state=1)\n",
    "combined_set = pd.concat([balanced_burglaries,balanced_fraud],axis=0)\n",
    "combined_set['PdDistrict'] = pd.factorize(combined_set['PdDistrict'])[0]"
   ]
  },
  {
   "cell_type": "code",
   "execution_count": 127,
   "metadata": {},
   "outputs": [],
   "source": [
    "train, test = train_test_split(combined_set, test_size=0.2)"
   ]
  },
  {
   "cell_type": "markdown",
   "metadata": {},
   "source": [
    "We drop the time and date columns."
   ]
  },
  {
   "cell_type": "code",
   "execution_count": 128,
   "metadata": {},
   "outputs": [],
   "source": [
    "X_train = train.drop(columns=['Category','Time','Date'])\n",
    "y_train = train['Category']\n",
    "\n",
    "X_test = test.drop(columns=['Category','Time','Date'])\n",
    "y_test = test['Category']"
   ]
  },
  {
   "cell_type": "markdown",
   "metadata": {},
   "source": [
    "We define a small function for testing models."
   ]
  },
  {
   "cell_type": "code",
   "execution_count": 129,
   "metadata": {},
   "outputs": [],
   "source": [
    "def test_model(model):\n",
    "    model.fit(X_train, y_train)\n",
    "    print(model.score(X_test,y_test))"
   ]
  },
  {
   "cell_type": "markdown",
   "metadata": {},
   "source": [
    "# Preparing the models\n",
    "\n",
    "We define two distinct random forest classifiers, base_rfc, which represents a default instance of the random forest classfier that SKLearn provides, and later on we define **improved_rfc**. On improved_rfc we perform a Randomized Search for best hyperparameters, so as to find the 'best' parameters for our model, without having the manually adjust these. **Beware that testing for parameters takes a while**, so we've included the results of the testing below in the dict 'dbest_params'. No need to actually perform the testing on the readers part. "
   ]
  },
  {
   "cell_type": "code",
   "execution_count": 133,
   "metadata": {},
   "outputs": [
    {
     "name": "stdout",
     "output_type": "stream",
     "text": [
      "0.592\n"
     ]
    }
   ],
   "source": [
    "base_rfc = RandomForestClassifier()\n",
    "test_model(base_rfc)"
   ]
  },
  {
   "cell_type": "markdown",
   "metadata": {},
   "source": [
    "We define the parameters and different values to test with. These are chosen with speed in mind, as testing for parameters takes a while. We have tried to cover most sensible values. "
   ]
  },
  {
   "cell_type": "code",
   "execution_count": null,
   "metadata": {},
   "outputs": [],
   "source": [
    "n_estimators = [int(x) for x in np.linspace(start = 200, stop = 2000, num = 10)]\n",
    "max_features = ['auto', 'sqrt']\n",
    "max_depth = [int(x) for x in np.linspace(10, 110, num = 11)]\n",
    "max_depth.append(None)\n",
    "min_samples_split = [1,5,20,50,100,200,500]\n",
    "min_samples_leaf = [1,5,20,50,100,200,500]\n",
    "bootstrap = [True, False]"
   ]
  },
  {
   "cell_type": "code",
   "execution_count": null,
   "metadata": {},
   "outputs": [],
   "source": [
    "random_grid = {'n_estimators': n_estimators,\n",
    "               'max_features': max_features,\n",
    "               'max_depth': max_depth,\n",
    "               'min_samples_split': min_samples_split,\n",
    "               'min_samples_leaf': min_samples_leaf,\n",
    "               'bootstrap': bootstrap}"
   ]
  },
  {
   "cell_type": "code",
   "execution_count": 130,
   "metadata": {},
   "outputs": [
    {
     "ename": "NameError",
     "evalue": "name 'random_grid' is not defined",
     "output_type": "error",
     "traceback": [
      "\u001b[0;31m---------------------------------------------------------------------------\u001b[0m",
      "\u001b[0;31mNameError\u001b[0m                                 Traceback (most recent call last)",
      "\u001b[0;32m<ipython-input-130-af4e5e58a8ca>\u001b[0m in \u001b[0;36m<module>\u001b[0;34m\u001b[0m\n\u001b[1;32m      1\u001b[0m \u001b[0mrfc\u001b[0m \u001b[0;34m=\u001b[0m \u001b[0mRandomForestClassifier\u001b[0m\u001b[0;34m(\u001b[0m\u001b[0;34m)\u001b[0m\u001b[0;34m\u001b[0m\u001b[0m\n\u001b[0;32m----> 2\u001b[0;31m \u001b[0mrfc_random\u001b[0m \u001b[0;34m=\u001b[0m \u001b[0mRandomizedSearchCV\u001b[0m\u001b[0;34m(\u001b[0m\u001b[0mestimator\u001b[0m \u001b[0;34m=\u001b[0m \u001b[0mrfc\u001b[0m\u001b[0;34m,\u001b[0m \u001b[0mparam_distributions\u001b[0m \u001b[0;34m=\u001b[0m \u001b[0mrandom_grid\u001b[0m\u001b[0;34m,\u001b[0m \u001b[0mn_iter\u001b[0m \u001b[0;34m=\u001b[0m \u001b[0;36m100\u001b[0m\u001b[0;34m,\u001b[0m \u001b[0mcv\u001b[0m \u001b[0;34m=\u001b[0m \u001b[0;36m3\u001b[0m\u001b[0;34m,\u001b[0m \u001b[0mverbose\u001b[0m\u001b[0;34m=\u001b[0m\u001b[0;36m2\u001b[0m\u001b[0;34m,\u001b[0m \u001b[0mrandom_state\u001b[0m\u001b[0;34m=\u001b[0m\u001b[0;36m42\u001b[0m\u001b[0;34m,\u001b[0m \u001b[0mn_jobs\u001b[0m \u001b[0;34m=\u001b[0m \u001b[0;34m-\u001b[0m\u001b[0;36m1\u001b[0m\u001b[0;34m)\u001b[0m\u001b[0;34m\u001b[0m\u001b[0m\n\u001b[0m\u001b[1;32m      3\u001b[0m \u001b[0mrfc_random\u001b[0m\u001b[0;34m.\u001b[0m\u001b[0mfit\u001b[0m\u001b[0;34m(\u001b[0m\u001b[0mX_train\u001b[0m\u001b[0;34m,\u001b[0m \u001b[0my_train\u001b[0m\u001b[0;34m)\u001b[0m\u001b[0;34m\u001b[0m\u001b[0m\n",
      "\u001b[0;31mNameError\u001b[0m: name 'random_grid' is not defined"
     ]
    }
   ],
   "source": [
    "rfc = RandomForestClassifier()\n",
    "rfc_random = RandomizedSearchCV(estimator = rfc, param_distributions = random_grid, n_iter = 100, cv = 3, verbose=2, random_state=42, n_jobs = -1)\n",
    "rfc_random.fit(X_train, y_train)"
   ]
  },
  {
   "cell_type": "code",
   "execution_count": 20,
   "metadata": {},
   "outputs": [],
   "source": [
    "best_params = {'max_depth': 10, 'max_features': 'auto', 'n_estimators': 2000, 'min_samples_split': 100, 'min_samples_leaf': 20, 'bootstrap': True}"
   ]
  },
  {
   "cell_type": "code",
   "execution_count": 42,
   "metadata": {},
   "outputs": [],
   "source": [
    "dbest_params = {'max_depth': 10, 'max_features': 'auto', 'n_estimators': 1000, 'min_samples_split': 100, 'min_samples_leaf': 20, 'bootstrap': True}"
   ]
  },
  {
   "cell_type": "code",
   "execution_count": 131,
   "metadata": {},
   "outputs": [],
   "source": [
    "improved_rfc = RandomForestClassifier()\n",
    "improved_rfc.set_params(**best_params);"
   ]
  },
  {
   "cell_type": "code",
   "execution_count": 132,
   "metadata": {},
   "outputs": [
    {
     "name": "stdout",
     "output_type": "stream",
     "text": [
      "0.64675\n"
     ]
    }
   ],
   "source": [
    "test_model(improved_rfc)"
   ]
  },
  {
   "cell_type": "markdown",
   "metadata": {},
   "source": [
    "# Did testing for hyperparameters help?\n",
    "\n",
    "Well yes, it did. base_rfc has accuracy of about 0.59 - 0.60, while our improved model is around 0.64. \n",
    "A small improvement but anything counts!\n",
    "\n",
    "Now we are interesting in testing for features, or more accurately, testing for how many features we ideally use.\n",
    "For this we use SKLearns Recursive feature elimination with cross-validation (or, RFECV). This way we contiously fit our model and remove a feature at each step, and cross validate along the way. The end result is a model fitted with the best amount of features, that also avoids overfitting due to cross-validation.\n",
    "The impact on accuracy, however, is barely noticable and remains about 0.64. "
   ]
  },
  {
   "cell_type": "code",
   "execution_count": 134,
   "metadata": {},
   "outputs": [],
   "source": [
    "rfecv_pre = RFECV(estimator = improved_rfc, step=1, cv=StratifiedKFold(2),scoring='accuracy')"
   ]
  },
  {
   "cell_type": "code",
   "execution_count": 135,
   "metadata": {},
   "outputs": [
    {
     "data": {
      "text/plain": [
       "RFECV(cv=StratifiedKFold(n_splits=2, random_state=None, shuffle=False),\n",
       "      estimator=RandomForestClassifier(bootstrap=True, ccp_alpha=0.0,\n",
       "                                       class_weight=None, criterion='gini',\n",
       "                                       max_depth=10, max_features='auto',\n",
       "                                       max_leaf_nodes=None, max_samples=None,\n",
       "                                       min_impurity_decrease=0.0,\n",
       "                                       min_impurity_split=None,\n",
       "                                       min_samples_leaf=20,\n",
       "                                       min_samples_split=100,\n",
       "                                       min_weight_fraction_leaf=0.0,\n",
       "                                       n_estimators=2000, n_jobs=None,\n",
       "                                       oob_score=False, random_state=None,\n",
       "                                       verbose=0, warm_start=False),\n",
       "      min_features_to_select=1, n_jobs=None, scoring='accuracy', step=1,\n",
       "      verbose=0)"
      ]
     },
     "execution_count": 135,
     "metadata": {},
     "output_type": "execute_result"
    }
   ],
   "source": [
    "rfecv_pre.fit(X_train,y_train)"
   ]
  },
  {
   "cell_type": "code",
   "execution_count": null,
   "metadata": {},
   "outputs": [],
   "source": [
    "rfecv_pre.score(X_test, y_test)\n",
    "plt.figure()\n",
    "plt.xlabel(\"Number of features selected\")\n",
    "plt.ylabel(\"Cross validation score (nb of correct classifications)\")\n",
    "plt.plot(range(1, len(rfecv_pre.grid_scores_) + 1), rfecv_pre.grid_scores_)\n",
    "plt.show()"
   ]
  },
  {
   "cell_type": "code",
   "execution_count": 168,
   "metadata": {},
   "outputs": [
    {
     "data": {
      "text/plain": [
       "0.6435"
      ]
     },
     "execution_count": 168,
     "metadata": {},
     "output_type": "execute_result"
    }
   ],
   "source": [
    "rfecv_pre.score(X_test, y_test)"
   ]
  },
  {
   "cell_type": "markdown",
   "metadata": {},
   "source": [
    "# With weather"
   ]
  },
  {
   "cell_type": "code",
   "execution_count": 117,
   "metadata": {},
   "outputs": [],
   "source": [
    "from sklearn.model_selection import StratifiedKFold\n",
    "from sklearn.feature_selection import RFECV\n",
    "import matplotlib.pyplot as plt"
   ]
  },
  {
   "cell_type": "code",
   "execution_count": 136,
   "metadata": {},
   "outputs": [],
   "source": [
    "weather_data = pd.read_csv(\"../weather_data.csv\")\n",
    "weather_data['date'] = pd.to_datetime(weather_data['date'],infer_datetime_format=\"%Y/%m/%d\",format=\"%d/%m/%Y\")\n",
    "weather_data.dropna()\n",
    "weather_data['date'] = weather_data['date'].dt.tz_localize(None)\n",
    "weather_data['hour'] = weather_data['date'].dt.hour\n",
    "weather_data['date'] = weather_data['date'].dt.date\n",
    "\n",
    "new_pd['Date'] = new_pd['Date'].dt.date"
   ]
  },
  {
   "cell_type": "markdown",
   "metadata": {},
   "source": [
    "We merge the two datasets and repeat the steps in the previous section."
   ]
  },
  {
   "cell_type": "code",
   "execution_count": 137,
   "metadata": {},
   "outputs": [],
   "source": [
    "new_df = pd.merge(new_pd,weather_data,how='left',left_on=['Date','Hour'], right_on=['date','hour'])\n",
    "new_df = new_df.dropna()"
   ]
  },
  {
   "cell_type": "code",
   "execution_count": 138,
   "metadata": {},
   "outputs": [],
   "source": [
    "burglaries = new_df[(new_df['Category'] == 'BURGLARY')]\n",
    "fraud = new_df[(new_df['Category'] == 'FRAUD')]"
   ]
  },
  {
   "cell_type": "markdown",
   "metadata": {},
   "source": [
    "The features 'weather' and 'PdDistrict' is again factorized to allow the classfier to utilize them."
   ]
  },
  {
   "cell_type": "code",
   "execution_count": 139,
   "metadata": {},
   "outputs": [],
   "source": [
    "balanced_burglaries = burglaries.sample(10000, random_state=1)\n",
    "balanced_fraud = fraud.sample(10000, random_state=1)\n",
    "combined_set = pd.concat([balanced_burglaries,balanced_fraud],axis=0)\n",
    "combined_set['PdDistrict'] = pd.factorize(combined_set['PdDistrict'])[0]\n",
    "combined_set['weather'] = pd.factorize(combined_set['weather'])[0]"
   ]
  },
  {
   "cell_type": "code",
   "execution_count": 140,
   "metadata": {},
   "outputs": [],
   "source": [
    "train_weather, test_weather = train_test_split(combined_set, test_size=0.2)"
   ]
  },
  {
   "cell_type": "code",
   "execution_count": 141,
   "metadata": {},
   "outputs": [],
   "source": [
    "X_train_weather = train_weather.drop(columns=['Category','Time','Date','date'])\n",
    "y_train_weather = train_weather['Category']\n",
    "\n",
    "X_test_weather = test_weather.drop(columns=['Category','Time','Date','date'])\n",
    "y_test_weather = test_weather['Category']"
   ]
  },
  {
   "cell_type": "markdown",
   "metadata": {},
   "source": [
    "# What features to use?\n",
    "\n",
    "Instead of removing features we think may or may not work in regards to the weather, we once again turn to RFECV. \n",
    "Adding weather data means that we now have 11 features total, so performing the RFECV now takes a little longer. Again, for the readers sake, we've included the results below so no need to fit the RFECV.  "
   ]
  },
  {
   "cell_type": "code",
   "execution_count": 142,
   "metadata": {},
   "outputs": [],
   "source": [
    "rfecv = RFECV(estimator = improved_rfc, step=1, cv=StratifiedKFold(2),scoring='accuracy')"
   ]
  },
  {
   "cell_type": "code",
   "execution_count": 143,
   "metadata": {},
   "outputs": [
    {
     "data": {
      "text/plain": [
       "RFECV(cv=StratifiedKFold(n_splits=2, random_state=None, shuffle=False),\n",
       "      estimator=RandomForestClassifier(bootstrap=True, ccp_alpha=0.0,\n",
       "                                       class_weight=None, criterion='gini',\n",
       "                                       max_depth=10, max_features='auto',\n",
       "                                       max_leaf_nodes=None, max_samples=None,\n",
       "                                       min_impurity_decrease=0.0,\n",
       "                                       min_impurity_split=None,\n",
       "                                       min_samples_leaf=20,\n",
       "                                       min_samples_split=100,\n",
       "                                       min_weight_fraction_leaf=0.0,\n",
       "                                       n_estimators=2000, n_jobs=None,\n",
       "                                       oob_score=False, random_state=None,\n",
       "                                       verbose=0, warm_start=False),\n",
       "      min_features_to_select=1, n_jobs=None, scoring='accuracy', step=1,\n",
       "      verbose=0)"
      ]
     },
     "execution_count": 143,
     "metadata": {},
     "output_type": "execute_result"
    }
   ],
   "source": [
    "rfecv.fit(X_train_weather,y_train_weather)"
   ]
  },
  {
   "cell_type": "markdown",
   "metadata": {},
   "source": [
    "Below is a small plot of how our accuracy changes according to features used. 5 is optimal and adding more lowers the accuracy."
   ]
  },
  {
   "cell_type": "code",
   "execution_count": 146,
   "metadata": {},
   "outputs": [
    {
     "data": {
      "image/png": "[encoded data removed]",
      "text/plain": [
       "<Figure size 432x288 with 1 Axes>"
      ]
     },
     "metadata": {
      "needs_background": "light"
     },
     "output_type": "display_data"
    }
   ],
   "source": [
    "plt.figure()\n",
    "plt.xlabel(\"Number of features selected\")\n",
    "plt.ylabel(\"Cross validation score (nb of correct classifications)\")\n",
    "plt.plot(range(1, len(rfecv.grid_scores_) + 1), rfecv.grid_scores_)\n",
    "plt.show()"
   ]
  },
  {
   "cell_type": "code",
   "execution_count": 147,
   "metadata": {},
   "outputs": [
    {
     "data": {
      "text/plain": [
       "0.63125"
      ]
     },
     "execution_count": 147,
     "metadata": {},
     "output_type": "execute_result"
    }
   ],
   "source": [
    "rfecv.score(X_test_weather,y_test_weather)"
   ]
  },
  {
   "cell_type": "code",
   "execution_count": 167,
   "metadata": {},
   "outputs": [
    {
     "data": {
      "text/plain": [
       "0.62625"
      ]
     },
     "execution_count": 167,
     "metadata": {},
     "output_type": "execute_result"
    }
   ],
   "source": [
    "improved_rfc.fit(X_train_weather, y_train_weather)\n",
    "improved_rfc.score(X_test_weather, y_test_weather)"
   ]
  },
  {
   "cell_type": "code",
   "execution_count": 169,
   "metadata": {},
   "outputs": [
    {
     "data": {
      "text/plain": [
       "0.609"
      ]
     },
     "execution_count": 169,
     "metadata": {},
     "output_type": "execute_result"
    }
   ],
   "source": [
    "base_rfc.fit(X_train_weather, y_train_weather)\n",
    "base_rfc.score(X_test_weather, y_test_weather)"
   ]
  },
  {
   "cell_type": "markdown",
   "metadata": {},
   "source": [
    "# Final results\n",
    "\n",
    "To avoid having the user perform RFECV, here are the final results:\n",
    "\n",
    "## Crime-data without weather:\n",
    "\n",
    "Naive Random Forest Classifer (without finding best hyperparameters or performing RFECV:\n",
    "~ 0.59\n",
    "\n",
    "w. best hyperparameters:\n",
    "~ 0.64\n",
    "\n",
    "w. best hyperparameters and best features:\n",
    "~ 0.64\n",
    "\n",
    "## Crime-data with weather:\n",
    "\n",
    "Naive Random Forest Classifer (without finding best hyperparameters or performing RFECV:\n",
    "~ 0.6\n",
    "\n",
    "w. best hyperparameters:\n",
    "~ 0.62\n",
    "\n",
    "w. best hyperparameters and best features:\n",
    "~ 0.63\n",
    "\n",
    "As it turns out, adding weather data to our original crime dataset did not improve accuracy. We can now make a somewhat educated guess and say that neither burglary nor fraud depends severely on the current weather situation.\n",
    "\n",
    "But, we can predict what type of crime will take base on some relevant features, with about 64% accuracy. This is by no means perfect, but it's better than purely guessing."
   ]
  },
  {
   "cell_type": "code",
   "execution_count": 163,
   "metadata": {},
   "outputs": [],
   "source": [
    "ranks = rfecv.ranking_"
   ]
  },
  {
   "cell_type": "code",
   "execution_count": 164,
   "metadata": {},
   "outputs": [],
   "source": [
    "features = X_test_weather.columns.to_numpy()"
   ]
  },
  {
   "cell_type": "markdown",
   "metadata": {},
   "source": [
    "## What were the most significant features?\n",
    "\n",
    "Here's the ranking, with lower being better. DayOfWeek scores worst and has little to no positive impact. Same goes for weather, wind speed and month. Temperature turned out to be relatively important, so did hour, police district and , surprisingly, wind direction.\n",
    "\n",
    "* Ranking of DayOfWeek : 8\n",
    "* Ranking of PdDistrict : 1\n",
    "* Ranking of Hour : 1\n",
    "* Ranking of Month : 5\n",
    "* Ranking of Hour_of_week : 1\n",
    "* Ranking of temperature : 1\n",
    "* Ranking of humidity : 3\n",
    "* Ranking of weather : 6\n",
    "* Ranking of wind_speed : 7\n",
    "* Ranking of wind_direction : 2\n",
    "* Ranking of pressure : 4\n",
    "* Ranking of hour : 1\n"
   ]
  },
  {
   "cell_type": "code",
   "execution_count": 166,
   "metadata": {},
   "outputs": [
    {
     "name": "stdout",
     "output_type": "stream",
     "text": [
      "Ranking of DayOfWeek : 8\n",
      "Ranking of PdDistrict : 1\n",
      "Ranking of Hour : 1\n",
      "Ranking of Month : 5\n",
      "Ranking of Hour_of_week : 1\n",
      "Ranking of temperature : 1\n",
      "Ranking of humidity : 3\n",
      "Ranking of weather : 6\n",
      "Ranking of wind_speed : 7\n",
      "Ranking of wind_direction : 2\n",
      "Ranking of pressure : 4\n",
      "Ranking of hour : 1\n"
     ]
    }
   ],
   "source": [
    "for i in range(len(ranks)):\n",
    "    print(\"Ranking of \" + features[i] + \" : \" + str(ranks[i]))"
   ]
  },
  {
   "cell_type": "code",
   "execution_count": null,
   "metadata": {},
   "outputs": [],
   "source": []
  }
 ],
 "metadata": {
  "kernelspec": {
   "display_name": "Python 3",
   "language": "python",
   "name": "python3"
  },
  "language_info": {
   "codemirror_mode": {
    "name": "ipython",
    "version": 3
   },
   "file_extension": ".py",
   "mimetype": "text/x-python",
   "name": "python",
   "nbconvert_exporter": "python",
   "pygments_lexer": "ipython3",
   "version": "3.5.1"
  }
 },
 "nbformat": 4,
 "nbformat_minor": 4
}
