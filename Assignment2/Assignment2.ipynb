{
 "cells": [
  {
   "cell_type": "markdown",
   "metadata": {},
   "source": [
    "## Part 1 - Questions to text and lectures.\n",
    "\n",
    "### A) Segal and Heer paper\n",
    "\n",
    "* **What is the Oxford English Dictionary's defintion of a narrative?**\n",
    "\n",
    "“an account of a series of events, facts, etc., given in order and with the establishing of connections between them.”\n",
    "\n",
    "\n",
    "* **What is your favorite visualization among the examples in section 3? Explain why in a few words.**\n",
    "\n",
    "Figure 2 comparing budget forecasts with reality is a great visualization because even though its simple, it elegantly conveys the narrative through usage of the martini glass structure. The visualiztion shows a good amount of information and the layout is consitent ensuring that reader doesn't get disoriented and is able to understand the story. Finally the visualization uses a tacit tutorial to ensure that the reader knows which interactions are possible.\n",
    "\n",
    "* **What's the point of Figure 7?**\n",
    "\n",
    "Figure 7 shows an analysis of tactics used for visual narrative as well as narrative structures used acros mutliple genres of visualization. The figure highlights trends in specific genres, it showcases which strategies are commonly used as well as which are under utilized. \n",
    "\n",
    "* **Use Figure 7 to find the most common design choice within each category for the Visual narrative and Narrative structure**\n",
    "\n",
    "The most common choices are shown in the following table:\n",
    "\n",
    "| Visual Structuring        | Highlighting        | Transition Guidance | Ordering           | Interactivity                  | Messaging           |\n",
    "|---------------------------|---------------------|---------------------|--------------------|--------------------------------|---------------------|\n",
    "| Consitent Visual Platform | Feature Distinction | Object Continuity   | User Directed Path | Filtering / Selection / Search | Caption / Headlines |\n",
    "\n",
    "\n",
    "* Visual Narrative\n",
    "\n",
    "    The most common choice for visual structuring is a consistent platform. Feature distinction is by far the most popular highlighting strategy. Object continuety is the most used transition gudiance strategy, closely followed by animated transition s as well as familiar objects. \n",
    "\n",
    "\n",
    "* Narrative Structure\n",
    "\n",
    "    User directed path is by far the most used Ordering strategy. Filtering/selection/search is almost always used for interactivity. Captions/Headlines are used very frequently closly followed by annotations.\n",
    "\n",
    "\n",
    "\n",
    "* **Check out Figure 8 and section 4.3. What is your favorite genre of narrative visualization? Why? What is your least favorite genre? Why?**\n",
    "\n",
    "Slide show is great for narrative visualization because it can utilize a vast amount of strategies in regards of both visual narrative as well as narrative structure. It can utilize interactivity well, letting the user explore at their own pace and to the desired extend, while making sure the narrative is pressentend in the intended order from start to end.\n",
    "\n",
    "Magazine style is the most limiting medium in regards of which narrative strategies can be utiliez and is therfore the least interresting.\n",
    "\n",
    "### B) Explanatory data visualization\n",
    "\n",
    "* **What are the three key elements to keep in mind when you design an explanatory visualization?**\n",
    "\n",
    "    * The first key point is to ask yourself, what results you want to communicate to the audience. \n",
    "    * The second keypoint is to allow exploration by utilizing user interactions in order to further engage the audience.\n",
    "    * The third keypoint is you should know the audience and design the visualization accordingly.\n",
    "\n",
    "* **In the video I talk about (1) overview first, (2) zoom and filter, (3) details on demand.**\n",
    "\n",
    "    * **Go online and find a visualization that follows these principles (don't use one from the video).**\n",
    "    \n",
    "    <img src=\"FacebookVisualization.PNG\" alt=\"Drawing\" style=\"width: 550px;\"/>\n",
    "   \n",
    "   The visualization is a Slide show showing how Facebook compares to other tech IPO's. It can be viewed in the following link:\n",
    "    https://archive.nytimes.com/www.nytimes.com/interactive/2012/05/17/business/dealbook/how-the-facebook-offering-compares.html?ref=technology\n",
    "    \n",
    "\n",
    "* **Explain how it achieves (1)-(3). It might be useful to use screenshots to illustrate your explanation.**\n",
    "    \n",
    "     **(1)** On the first slide an overview is given of previous IPO's to set the scene. **(2)** On the following slides zoom is used to change the users perspective. **(3)** At all times its possible to hower over the companies to get details on demand. It is also possible to search for a specific company.\n",
    "    \n",
    "    \n",
    "* **Explain in your own words: How is explanatory data analysis different from exploratory data analysis?**\n",
    "\n",
    "Explanatory data analysis is used to communicate results from a dataset to an audience, which means that the way the results are visualized is of utmost importance. Explanatory data analysis is all about creating a narrative through varius visualization strategies, that is engaging for the user. \n",
    "On the other hand exploratory data analysis is usefull for figuring out what narrative (if any) the dataset is able to tell.  "
   ]
  },
  {
   "cell_type": "markdown",
   "metadata": {},
   "source": [
    "# Part 2 - Random forest and weather"
   ]
  },
  {
   "cell_type": "code",
   "execution_count": 5,
   "metadata": {},
   "outputs": [],
   "source": [
    "import pprint\n",
    "import folium\n",
    "import pandas as pd\n",
    "import numpy as np\n",
    "import sklearn\n",
    "import datetime as dt\n",
    "from sklearn.tree import DecisionTreeClassifier\n",
    "from sklearn.ensemble import RandomForestClassifier\n",
    "from sklearn.model_selection import train_test_split\n",
    "from sklearn.pipeline import Pipeline\n",
    "from sklearn.model_selection import RandomizedSearchCV\n",
    "import warnings\n",
    "warnings.filterwarnings('ignore')"
   ]
  },
  {
   "cell_type": "markdown",
   "metadata": {},
   "source": [
    "# Predicting without weather data"
   ]
  },
  {
   "cell_type": "code",
   "execution_count": 123,
   "metadata": {},
   "outputs": [],
   "source": [
    "police_data = pd.read_csv(\"../police_data.csv\")"
   ]
  },
  {
   "cell_type": "code",
   "execution_count": 124,
   "metadata": {},
   "outputs": [],
   "source": [
    "police_data['Time'] = pd.to_datetime(police_data['Time'],format=\"%H:%M\")\n",
    "police_data['Date'] = pd.to_datetime(police_data['Date'],format=\"%m/%d/%Y\")"
   ]
  },
  {
   "cell_type": "code",
   "execution_count": 125,
   "metadata": {},
   "outputs": [],
   "source": [
    "police_data = police_data[(police_data['Date'] > '2012-10-01') & (police_data['Date'] < '2017-10-27')]\n",
    "\n",
    "new_pd = police_data[['Category', 'Date','Time','DayOfWeek','PdDistrict']]\n",
    "new_pd['Hour'] = new_pd['Time'].dt.hour\n",
    "new_pd['Month'] = new_pd['Date'].dt.month\n",
    "new_pd['Hour_of_week'] = new_pd['Date'].dt.dayofweek * 24 + (new_pd['Hour'] + 1)\n",
    "new_pd['DayOfWeek'] = new_pd['Date'].dt.dayofweek"
   ]
  },
  {
   "cell_type": "markdown",
   "metadata": {},
   "source": [
    "# Categories to use, framing the data\n",
    "\n",
    "We define two categories, burglary and fraud. These are chosen because we hypothesize that burglaries are very impacted by weather, while fraud is not, and we want to see if weather have any effect on these crimes.\n",
    "\n",
    "We use balanced datasets, with 10000 samples in each. We chose balanced simply because otherwise we might well have way too many burglary incidents compared to fraud, or the other way around, which would skew our model and ultimately impact later predictions. \n",
    "\n",
    "We then combine the datasets to one dataframe, which we then again split into training and testing sets."
   ]
  },
  {
   "cell_type": "code",
   "execution_count": 126,
   "metadata": {},
   "outputs": [],
   "source": [
    "burglaries = new_pd[(new_pd['Category'] == 'BURGLARY')]\n",
    "fraud = new_pd[(new_pd['Category'] == 'FRAUD')]\n",
    "\n",
    "balanced_burglaries = burglaries.sample(10000, random_state=1)\n",
    "balanced_fraud = fraud.sample(10000, random_state=1)\n",
    "combined_set = pd.concat([balanced_burglaries,balanced_fraud],axis=0)\n",
    "combined_set['PdDistrict'] = pd.factorize(combined_set['PdDistrict'])[0]"
   ]
  },
  {
   "cell_type": "code",
   "execution_count": 127,
   "metadata": {},
   "outputs": [],
   "source": [
    "train, test = train_test_split(combined_set, test_size=0.2)"
   ]
  },
  {
   "cell_type": "markdown",
   "metadata": {},
   "source": [
    "We drop the time and date columns."
   ]
  },
  {
   "cell_type": "code",
   "execution_count": 128,
   "metadata": {},
   "outputs": [],
   "source": [
    "X_train = train.drop(columns=['Category','Time','Date'])\n",
    "y_train = train['Category']\n",
    "\n",
    "X_test = test.drop(columns=['Category','Time','Date'])\n",
    "y_test = test['Category']"
   ]
  },
  {
   "cell_type": "markdown",
   "metadata": {},
   "source": [
    "We define a small function for testing models."
   ]
  },
  {
   "cell_type": "code",
   "execution_count": 129,
   "metadata": {},
   "outputs": [],
   "source": [
    "def test_model(model):\n",
    "    model.fit(X_train, y_train)\n",
    "    print(model.score(X_test,y_test))"
   ]
  },
  {
   "cell_type": "markdown",
   "metadata": {},
   "source": [
    "# Preparing the models\n",
    "\n",
    "We define two distinct random forest classifiers, base_rfc, which represents a default instance of the random forest classfier that SKLearn provides, and later on we define **improved_rfc**. On improved_rfc we perform a Randomized Search for best hyperparameters, so as to find the 'best' parameters for our model, without having the manually adjust these. **Beware that testing for parameters takes a while**, so we've included the results of the testing below in the dict 'dbest_params'. No need to actually perform the testing on the readers part. "
   ]
  },
  {
   "cell_type": "code",
   "execution_count": 133,
   "metadata": {},
   "outputs": [
    {
     "name": "stdout",
     "output_type": "stream",
     "text": [
      "0.592\n"
     ]
    }
   ],
   "source": [
    "base_rfc = RandomForestClassifier()\n",
    "test_model(base_rfc)"
   ]
  },
  {
   "cell_type": "markdown",
   "metadata": {},
   "source": [
    "We define the parameters and different values to test with. These are chosen with speed in mind, as testing for parameters takes a while. We have tried to cover most sensible values. "
   ]
  },
  {
   "cell_type": "code",
   "execution_count": null,
   "metadata": {},
   "outputs": [],
   "source": [
    "n_estimators = [int(x) for x in np.linspace(start = 200, stop = 2000, num = 10)]\n",
    "max_features = ['auto', 'sqrt']\n",
    "max_depth = [int(x) for x in np.linspace(10, 110, num = 11)]\n",
    "max_depth.append(None)\n",
    "min_samples_split = [1,5,20,50,100,200,500]\n",
    "min_samples_leaf = [1,5,20,50,100,200,500]\n",
    "bootstrap = [True, False]"
   ]
  },
  {
   "cell_type": "code",
   "execution_count": null,
   "metadata": {},
   "outputs": [],
   "source": [
    "random_grid = {'n_estimators': n_estimators,\n",
    "               'max_features': max_features,\n",
    "               'max_depth': max_depth,\n",
    "               'min_samples_split': min_samples_split,\n",
    "               'min_samples_leaf': min_samples_leaf,\n",
    "               'bootstrap': bootstrap}"
   ]
  },
  {
   "cell_type": "code",
   "execution_count": 130,
   "metadata": {},
   "outputs": [
    {
     "ename": "NameError",
     "evalue": "name 'random_grid' is not defined",
     "output_type": "error",
     "traceback": [
      "\u001b[0;31m---------------------------------------------------------------------------\u001b[0m",
      "\u001b[0;31mNameError\u001b[0m                                 Traceback (most recent call last)",
      "\u001b[0;32m<ipython-input-130-af4e5e58a8ca>\u001b[0m in \u001b[0;36m<module>\u001b[0;34m\u001b[0m\n\u001b[1;32m      1\u001b[0m \u001b[0mrfc\u001b[0m \u001b[0;34m=\u001b[0m \u001b[0mRandomForestClassifier\u001b[0m\u001b[0;34m(\u001b[0m\u001b[0;34m)\u001b[0m\u001b[0;34m\u001b[0m\u001b[0m\n\u001b[0;32m----> 2\u001b[0;31m \u001b[0mrfc_random\u001b[0m \u001b[0;34m=\u001b[0m \u001b[0mRandomizedSearchCV\u001b[0m\u001b[0;34m(\u001b[0m\u001b[0mestimator\u001b[0m \u001b[0;34m=\u001b[0m \u001b[0mrfc\u001b[0m\u001b[0;34m,\u001b[0m \u001b[0mparam_distributions\u001b[0m \u001b[0;34m=\u001b[0m \u001b[0mrandom_grid\u001b[0m\u001b[0;34m,\u001b[0m \u001b[0mn_iter\u001b[0m \u001b[0;34m=\u001b[0m \u001b[0;36m100\u001b[0m\u001b[0;34m,\u001b[0m \u001b[0mcv\u001b[0m \u001b[0;34m=\u001b[0m \u001b[0;36m3\u001b[0m\u001b[0;34m,\u001b[0m \u001b[0mverbose\u001b[0m\u001b[0;34m=\u001b[0m\u001b[0;36m2\u001b[0m\u001b[0;34m,\u001b[0m \u001b[0mrandom_state\u001b[0m\u001b[0;34m=\u001b[0m\u001b[0;36m42\u001b[0m\u001b[0;34m,\u001b[0m \u001b[0mn_jobs\u001b[0m \u001b[0;34m=\u001b[0m \u001b[0;34m-\u001b[0m\u001b[0;36m1\u001b[0m\u001b[0;34m)\u001b[0m\u001b[0;34m\u001b[0m\u001b[0m\n\u001b[0m\u001b[1;32m      3\u001b[0m \u001b[0mrfc_random\u001b[0m\u001b[0;34m.\u001b[0m\u001b[0mfit\u001b[0m\u001b[0;34m(\u001b[0m\u001b[0mX_train\u001b[0m\u001b[0;34m,\u001b[0m \u001b[0my_train\u001b[0m\u001b[0;34m)\u001b[0m\u001b[0;34m\u001b[0m\u001b[0m\n",
      "\u001b[0;31mNameError\u001b[0m: name 'random_grid' is not defined"
     ]
    }
   ],
   "source": [
    "rfc = RandomForestClassifier()\n",
    "rfc_random = RandomizedSearchCV(estimator = rfc, param_distributions = random_grid, n_iter = 100, cv = 3, verbose=2, random_state=42, n_jobs = -1)\n",
    "rfc_random.fit(X_train, y_train)"
   ]
  },
  {
   "cell_type": "code",
   "execution_count": 20,
   "metadata": {},
   "outputs": [],
   "source": [
    "best_params = {'max_depth': 10, 'max_features': 'auto', 'n_estimators': 2000, 'min_samples_split': 100, 'min_samples_leaf': 20, 'bootstrap': True}"
   ]
  },
  {
   "cell_type": "code",
   "execution_count": 42,
   "metadata": {},
   "outputs": [],
   "source": [
    "dbest_params = {'max_depth': 10, 'max_features': 'auto', 'n_estimators': 1000, 'min_samples_split': 100, 'min_samples_leaf': 20, 'bootstrap': True}"
   ]
  },
  {
   "cell_type": "code",
   "execution_count": 131,
   "metadata": {},
   "outputs": [],
   "source": [
    "improved_rfc = RandomForestClassifier()\n",
    "improved_rfc.set_params(**best_params);"
   ]
  },
  {
   "cell_type": "code",
   "execution_count": 132,
   "metadata": {},
   "outputs": [
    {
     "name": "stdout",
     "output_type": "stream",
     "text": [
      "0.64675\n"
     ]
    }
   ],
   "source": [
    "test_model(improved_rfc)"
   ]
  },
  {
   "cell_type": "markdown",
   "metadata": {},
   "source": [
    "# Did testing for hyperparameters help?\n",
    "\n",
    "Well yes, it did. base_rfc has accuracy of about 0.59 - 0.60, while our improved model is around 0.64. \n",
    "A small improvement but anything counts!\n",
    "\n",
    "Now we are interesting in testing for features, or more accurately, testing for how many features we ideally use.\n",
    "For this we use SKLearns Recursive feature elimination with cross-validation (or, RFECV). This way we contiously fit our model and remove a feature at each step, and cross validate along the way. The end result is a model fitted with the best amount of features, that also avoids overfitting due to cross-validation.\n",
    "The impact on accuracy, however, is barely noticable and remains about 0.64. "
   ]
  },
  {
   "cell_type": "code",
   "execution_count": 134,
   "metadata": {},
   "outputs": [],
   "source": [
    "rfecv_pre = RFECV(estimator = improved_rfc, step=1, cv=StratifiedKFold(2),scoring='accuracy')"
   ]
  },
  {
   "cell_type": "code",
   "execution_count": 135,
   "metadata": {},
   "outputs": [
    {
     "data": {
      "text/plain": [
       "RFECV(cv=StratifiedKFold(n_splits=2, random_state=None, shuffle=False),\n",
       "      estimator=RandomForestClassifier(bootstrap=True, ccp_alpha=0.0,\n",
       "                                       class_weight=None, criterion='gini',\n",
       "                                       max_depth=10, max_features='auto',\n",
       "                                       max_leaf_nodes=None, max_samples=None,\n",
       "                                       min_impurity_decrease=0.0,\n",
       "                                       min_impurity_split=None,\n",
       "                                       min_samples_leaf=20,\n",
       "                                       min_samples_split=100,\n",
       "                                       min_weight_fraction_leaf=0.0,\n",
       "                                       n_estimators=2000, n_jobs=None,\n",
       "                                       oob_score=False, random_state=None,\n",
       "                                       verbose=0, warm_start=False),\n",
       "      min_features_to_select=1, n_jobs=None, scoring='accuracy', step=1,\n",
       "      verbose=0)"
      ]
     },
     "execution_count": 135,
     "metadata": {},
     "output_type": "execute_result"
    }
   ],
   "source": [
    "rfecv_pre.fit(X_train,y_train)"
   ]
  },
  {
   "cell_type": "code",
   "execution_count": null,
   "metadata": {},
   "outputs": [],
   "source": [
    "rfecv_pre.score(X_test, y_test)\n",
    "plt.figure()\n",
    "plt.xlabel(\"Number of features selected\")\n",
    "plt.ylabel(\"Cross validation score (nb of correct classifications)\")\n",
    "plt.plot(range(1, len(rfecv_pre.grid_scores_) + 1), rfecv_pre.grid_scores_)\n",
    "plt.show()"
   ]
  },
  {
   "cell_type": "code",
   "execution_count": 168,
   "metadata": {},
   "outputs": [
    {
     "data": {
      "text/plain": [
       "0.6435"
      ]
     },
     "execution_count": 168,
     "metadata": {},
     "output_type": "execute_result"
    }
   ],
   "source": [
    "rfecv_pre.score(X_test, y_test)"
   ]
  },
  {
   "cell_type": "markdown",
   "metadata": {},
   "source": [
    "# With weather"
   ]
  },
  {
   "cell_type": "code",
   "execution_count": 117,
   "metadata": {},
   "outputs": [],
   "source": [
    "from sklearn.model_selection import StratifiedKFold\n",
    "from sklearn.feature_selection import RFECV\n",
    "import matplotlib.pyplot as plt"
   ]
  },
  {
   "cell_type": "code",
   "execution_count": 136,
   "metadata": {},
   "outputs": [],
   "source": [
    "weather_data = pd.read_csv(\"../weather_data.csv\")\n",
    "weather_data['date'] = pd.to_datetime(weather_data['date'],infer_datetime_format=\"%Y/%m/%d\",format=\"%d/%m/%Y\")\n",
    "weather_data.dropna()\n",
    "weather_data['date'] = weather_data['date'].dt.tz_localize(None)\n",
    "weather_data['hour'] = weather_data['date'].dt.hour\n",
    "weather_data['date'] = weather_data['date'].dt.date\n",
    "\n",
    "new_pd['Date'] = new_pd['Date'].dt.date"
   ]
  },
  {
   "cell_type": "markdown",
   "metadata": {},
   "source": [
    "We merge the two datasets and repeat the steps in the previous section."
   ]
  },
  {
   "cell_type": "code",
   "execution_count": 137,
   "metadata": {},
   "outputs": [],
   "source": [
    "new_df = pd.merge(new_pd,weather_data,how='left',left_on=['Date','Hour'], right_on=['date','hour'])\n",
    "new_df = new_df.dropna()"
   ]
  },
  {
   "cell_type": "code",
   "execution_count": 138,
   "metadata": {},
   "outputs": [],
   "source": [
    "burglaries = new_df[(new_df['Category'] == 'BURGLARY')]\n",
    "fraud = new_df[(new_df['Category'] == 'FRAUD')]"
   ]
  },
  {
   "cell_type": "markdown",
   "metadata": {},
   "source": [
    "The features 'weather' and 'PdDistrict' is again factorized to allow the classfier to utilize them."
   ]
  },
  {
   "cell_type": "code",
   "execution_count": 139,
   "metadata": {},
   "outputs": [],
   "source": [
    "balanced_burglaries = burglaries.sample(10000, random_state=1)\n",
    "balanced_fraud = fraud.sample(10000, random_state=1)\n",
    "combined_set = pd.concat([balanced_burglaries,balanced_fraud],axis=0)\n",
    "combined_set['PdDistrict'] = pd.factorize(combined_set['PdDistrict'])[0]\n",
    "combined_set['weather'] = pd.factorize(combined_set['weather'])[0]"
   ]
  },
  {
   "cell_type": "code",
   "execution_count": 140,
   "metadata": {},
   "outputs": [],
   "source": [
    "train_weather, test_weather = train_test_split(combined_set, test_size=0.2)"
   ]
  },
  {
   "cell_type": "code",
   "execution_count": 141,
   "metadata": {},
   "outputs": [],
   "source": [
    "X_train_weather = train_weather.drop(columns=['Category','Time','Date','date'])\n",
    "y_train_weather = train_weather['Category']\n",
    "\n",
    "X_test_weather = test_weather.drop(columns=['Category','Time','Date','date'])\n",
    "y_test_weather = test_weather['Category']"
   ]
  },
  {
   "cell_type": "markdown",
   "metadata": {},
   "source": [
    "# What features to use?\n",
    "\n",
    "Instead of removing features we think may or may not work in regards to the weather, we once again turn to RFECV. \n",
    "Adding weather data means that we now have 11 features total, so performing the RFECV now takes a little longer. Again, for the readers sake, we've included the results below so no need to fit the RFECV.  "
   ]
  },
  {
   "cell_type": "code",
   "execution_count": 142,
   "metadata": {},
   "outputs": [],
   "source": [
    "rfecv = RFECV(estimator = improved_rfc, step=1, cv=StratifiedKFold(2),scoring='accuracy')"
   ]
  },
  {
   "cell_type": "code",
   "execution_count": 143,
   "metadata": {},
   "outputs": [
    {
     "data": {
      "text/plain": [
       "RFECV(cv=StratifiedKFold(n_splits=2, random_state=None, shuffle=False),\n",
       "      estimator=RandomForestClassifier(bootstrap=True, ccp_alpha=0.0,\n",
       "                                       class_weight=None, criterion='gini',\n",
       "                                       max_depth=10, max_features='auto',\n",
       "                                       max_leaf_nodes=None, max_samples=None,\n",
       "                                       min_impurity_decrease=0.0,\n",
       "                                       min_impurity_split=None,\n",
       "                                       min_samples_leaf=20,\n",
       "                                       min_samples_split=100,\n",
       "                                       min_weight_fraction_leaf=0.0,\n",
       "                                       n_estimators=2000, n_jobs=None,\n",
       "                                       oob_score=False, random_state=None,\n",
       "                                       verbose=0, warm_start=False),\n",
       "      min_features_to_select=1, n_jobs=None, scoring='accuracy', step=1,\n",
       "      verbose=0)"
      ]
     },
     "execution_count": 143,
     "metadata": {},
     "output_type": "execute_result"
    }
   ],
   "source": [
    "rfecv.fit(X_train_weather,y_train_weather)"
   ]
  },
  {
   "cell_type": "markdown",
   "metadata": {},
   "source": [
    "Below is a small plot of how our accuracy changes according to features used. 5 is optimal and adding more lowers the accuracy."
   ]
  },
  {
   "cell_type": "code",
   "execution_count": 146,
   "metadata": {},
   "outputs": [
    {
     "data": {
      "image/png": "[encoded data removed]",
      "text/plain": [
       "<Figure size 432x288 with 1 Axes>"
      ]
     },
     "metadata": {
      "needs_background": "light"
     },
     "output_type": "display_data"
    }
   ],
   "source": [
    "plt.figure()\n",
    "plt.xlabel(\"Number of features selected\")\n",
    "plt.ylabel(\"Cross validation score (nb of correct classifications)\")\n",
    "plt.plot(range(1, len(rfecv.grid_scores_) + 1), rfecv.grid_scores_)\n",
    "plt.show()"
   ]
  },
  {
   "cell_type": "code",
   "execution_count": 147,
   "metadata": {},
   "outputs": [
    {
     "data": {
      "text/plain": [
       "0.63125"
      ]
     },
     "execution_count": 147,
     "metadata": {},
     "output_type": "execute_result"
    }
   ],
   "source": [
    "rfecv.score(X_test_weather,y_test_weather)"
   ]
  },
  {
   "cell_type": "code",
   "execution_count": 167,
   "metadata": {},
   "outputs": [
    {
     "data": {
      "text/plain": [
       "0.62625"
      ]
     },
     "execution_count": 167,
     "metadata": {},
     "output_type": "execute_result"
    }
   ],
   "source": [
    "improved_rfc.fit(X_train_weather, y_train_weather)\n",
    "improved_rfc.score(X_test_weather, y_test_weather)"
   ]
  },
  {
   "cell_type": "code",
   "execution_count": 169,
   "metadata": {},
   "outputs": [
    {
     "data": {
      "text/plain": [
       "0.609"
      ]
     },
     "execution_count": 169,
     "metadata": {},
     "output_type": "execute_result"
    }
   ],
   "source": [
    "base_rfc.fit(X_train_weather, y_train_weather)\n",
    "base_rfc.score(X_test_weather, y_test_weather)"
   ]
  },
  {
   "cell_type": "markdown",
   "metadata": {},
   "source": [
    "# Final results\n",
    "\n",
    "To avoid having the user perform RFECV, here are the final results:\n",
    "\n",
    "## Crime-data without weather:\n",
    "\n",
    "Naive Random Forest Classifer (without finding best hyperparameters or performing RFECV:\n",
    "~ 0.59\n",
    "\n",
    "w. best hyperparameters:\n",
    "~ 0.64\n",
    "\n",
    "w. best hyperparameters and best features:\n",
    "~ 0.64\n",
    "\n",
    "## Crime-data with weather:\n",
    "\n",
    "Naive Random Forest Classifer (without finding best hyperparameters or performing RFECV:\n",
    "~ 0.6\n",
    "\n",
    "w. best hyperparameters:\n",
    "~ 0.62\n",
    "\n",
    "w. best hyperparameters and best features:\n",
    "~ 0.63\n",
    "\n",
    "As it turns out, adding weather data to our original crime dataset did not improve accuracy. We can now make a somewhat educated guess and say that neither burglary nor fraud depends severely on the current weather situation.\n",
    "\n",
    "But, we can predict what type of crime will take base on some relevant features, with about 64% accuracy. This is by no means perfect, but it's better than purely guessing."
   ]
  },
  {
   "cell_type": "code",
   "execution_count": 163,
   "metadata": {},
   "outputs": [],
   "source": [
    "ranks = rfecv.ranking_"
   ]
  },
  {
   "cell_type": "code",
   "execution_count": 164,
   "metadata": {},
   "outputs": [],
   "source": [
    "features = X_test_weather.columns.to_numpy()"
   ]
  },
  {
   "cell_type": "markdown",
   "metadata": {},
   "source": [
    "## What were the most significant features?\n",
    "\n",
    "Here's the ranking, with lower being better. DayOfWeek scores worst and has little to no positive impact. Same goes for weather, wind speed and month. Temperature turned out to be relatively important, so did hour, police district and , surprisingly, wind direction.\n",
    "\n",
    "* Ranking of DayOfWeek : 8\n",
    "* Ranking of PdDistrict : 1\n",
    "* Ranking of Hour : 1\n",
    "* Ranking of Month : 5\n",
    "* Ranking of Hour_of_week : 1\n",
    "* Ranking of temperature : 1\n",
    "* Ranking of humidity : 3\n",
    "* Ranking of weather : 6\n",
    "* Ranking of wind_speed : 7\n",
    "* Ranking of wind_direction : 2\n",
    "* Ranking of pressure : 4\n",
    "* Ranking of hour : 1\n"
   ]
  },
  {
   "cell_type": "code",
   "execution_count": 166,
   "metadata": {},
   "outputs": [
    {
     "name": "stdout",
     "output_type": "stream",
     "text": [
      "Ranking of DayOfWeek : 8\n",
      "Ranking of PdDistrict : 1\n",
      "Ranking of Hour : 1\n",
      "Ranking of Month : 5\n",
      "Ranking of Hour_of_week : 1\n",
      "Ranking of temperature : 1\n",
      "Ranking of humidity : 3\n",
      "Ranking of weather : 6\n",
      "Ranking of wind_speed : 7\n",
      "Ranking of wind_direction : 2\n",
      "Ranking of pressure : 4\n",
      "Ranking of hour : 1\n"
     ]
    }
   ],
   "source": [
    "for i in range(len(ranks)):\n",
    "    print(\"Ranking of \" + features[i] + \" : \" + str(ranks[i]))"
   ]
  },
  {
   "cell_type": "markdown",
   "metadata": {},
   "source": [
    "# Part 3 - Data visualization"
   ]
  },
  {
   "cell_type": "markdown",
   "metadata": {},
   "source": [
    "### Part 1 More on narrative data visualization"
   ]
  },
  {
   "cell_type": "markdown",
   "metadata": {},
   "source": [
    "Exercise: Questions to the text\n",
    "\n",
    "* What's the point of Figure 7?\n",
    "\n",
    "Categorising the different information mediums, and listing some of the methods that each article is using.\n",
    "\n",
    "* Use Figure 7 to find the most common design choice within each category for the Visual narrative and Narrative structure (the categories within visual narrative are 'visual structuring', 'highlighting', etc).\n",
    "\n",
    "the Annotated Graph / Map, mostly uses a consistent visual platform, and also some animated transitions.\n",
    "Partioned poster again uses a consistent visual platform but also makes use of an establishing shot.\n",
    "\n",
    "The film and animation makes use of a lot of the different visula narratives.\n",
    "\n",
    "\n",
    "* Check out Figure 8 and section 4.3. What is your favorite genre of narrative visualization? Why? What is your least favorite genre? Why?\n",
    "\n",
    "I like Annotated charts and partioned posters, in these you can usually dig into different aspects of the presented theme and focus on what you find interesting. Film videos are also nice since you don't have to read :)\n",
    "\n",
    "* Which genre is the \"How the virus got out\" NYT piece?\n",
    "it's a slideshow"
   ]
  },
  {
   "cell_type": "markdown",
   "metadata": {},
   "source": [
    "### Part 2 Toggling Histograms"
   ]
  },
  {
   "cell_type": "markdown",
   "metadata": {},
   "source": [
    "First thing we need to do is import the data and convert it to the correct format.\n",
    "\n",
    "We choose to only look at the focuscrimes.<br>\n",
    "Then we want the date data to be easily accesible so we extract all the relevant information and put it in seperate collumns."
   ]
  },
  {
   "cell_type": "code",
   "execution_count": null,
   "metadata": {},
   "outputs": [],
   "source": [
    "import numpy as np\n",
    "import pandas as pd\n",
    "from datetime import date\n",
    "\n",
    "focuscrimes = set(['WEAPON LAWS', 'PROSTITUTION', 'DRIVING UNDER THE INFLUENCE', 'ROBBERY', 'BURGLARY', 'ASSAULT', 'DRUNKENNESS', 'DRUG/NARCOTIC', 'TRESPASS', 'LARCENY/THEFT', 'VANDALISM', 'VEHICLE THEFT', 'STOLEN PROPERTY', 'DISORDERLY CONDUCT'])\n",
    "police_data_all = pd.read_csv('../police_data.csv')\n",
    "\n",
    "police_data = police_data_all.where(police_data_all.Category.isin(focuscrimes))\n",
    "\n",
    "police_data['Date'] = pd.to_datetime(police_data['Date'], format=\"%m/%d/%Y\")\n",
    "police_data['Time'] = pd.to_datetime(police_data['Time'], format=\"%H:%M\")\n",
    "police_data['Year'] = police_data['Date'].dt.year\n",
    "police_data['Month'] = police_data['Date'].dt.month\n",
    "police_data['Hour'] = police_data['Time'].dt.hour\n",
    "police_data['Hour_of_week'] = police_data['Date'].dt.dayofweek * 24 + (police_data['Hour'] + 1)\n",
    "police_data['Day'] = police_data['Date'].dt.day\n",
    "police_data['Minute'] = police_data['Time'].dt.minute\n"
   ]
  },
  {
   "cell_type": "markdown",
   "metadata": {},
   "source": [
    "Now with the data imported we normalize it so it better compares between different crimetypes.\n",
    "\n",
    "We do this by splitting every category up into 24 chunks of 1 hour, and the dividing each chunk by the total amount of that crime.\n",
    "\n",
    "This results in a value between 0 and 1 that describes the percentage of a given crime in that time interval.<br>\n",
    "The results can be seen below."
   ]
  },
  {
   "cell_type": "code",
   "execution_count": null,
   "metadata": {
    "scrolled": true
   },
   "outputs": [],
   "source": [
    "crime_hour_norm_df = pd.DataFrame()\n",
    "crime_hour_norm_df.insert(0, 'Hour', np.array([0,1,2,3,4,5,6,7,8,9,10,11,12,13,14,15,16,17,18,19,20,21,22,23])) \n",
    "for i, category in enumerate(focuscrimes):\n",
    "    df = police_data[police_data.Category == category]\n",
    "    df_hour = df['Category'].groupby(df['Hour']).count()\n",
    "    \n",
    "    #normalize\n",
    "    df_hour= df_hour/df['Category'].count()\n",
    "    \n",
    "    #insert normalized data into dataframe\n",
    "    crime_hour_norm_df.insert(i+1, category, df_hour) \n",
    "    \n",
    "\n",
    "crime_hour_norm_df.head()"
   ]
  },
  {
   "cell_type": "markdown",
   "metadata": {},
   "source": [
    "Now with the data ready we just need to displat it in the Bokeh plot.\n",
    "\n",
    "This is mostly just fiddling with a lot of settings, <br>\n",
    "in colors we store all the colors for the bars.<br>\n",
    "In items we store the different crimes to create a legend later, notice how we link it to the bars in line 23 items.append((i, [bar[i]])) <br>\n",
    "\n",
    "Most of the settings make sense on their own, but some interesting ones that we played with was: <br>\n",
    "* visible, we decided to hide all the graphs except for one to begin with, since you usually only want to compare two at a time, and turning everything off is tedious.\n",
    "* fill_alpha, this is the transparency of the bars and we needed to set it to something lower that 1 so that the bars would read through eachother.\n",
    "* toolbar_location, we decided to hide the main toolbar since it didn't add much functionality and just cluttered up the plot."
   ]
  },
  {
   "cell_type": "code",
   "execution_count": 5,
   "metadata": {},
   "outputs": [
    {
     "data": {
      "text/html": [
       "\n",
       "    <div class=\"bk-root\">\n",
       "        <a href=\"https://bokeh.org\" target=\"_blank\" class=\"bk-logo bk-logo-small bk-logo-notebook\"></a>\n",
       "        <span id=\"1357\">Loading BokehJS ...</span>\n",
       "    </div>"
      ]
     },
     "metadata": {},
     "output_type": "display_data"
    },
    {
     "data": {
      "application/javascript": [
       "\n",
       "(function(root) {\n",
       "  function now() {\n",
       "    return new Date();\n",
       "  }\n",
       "\n",
       "  var force = true;\n",
       "\n",
       "  if (typeof root._bokeh_onload_callbacks === \"undefined\" || force === true) {\n",
       "    root._bokeh_onload_callbacks = [];\n",
       "    root._bokeh_is_loading = undefined;\n",
       "  }\n",
       "\n",
       "  var JS_MIME_TYPE = 'application/javascript';\n",
       "  var HTML_MIME_TYPE = 'text/html';\n",
       "  var EXEC_MIME_TYPE = 'application/vnd.bokehjs_exec.v0+json';\n",
       "  var CLASS_NAME = 'output_bokeh rendered_html';\n",
       "\n",
       "  /**\n",
       "   * Render data to the DOM node\n",
       "   */\n",
       "  function render(props, node) {\n",
       "    var script = document.createElement(\"script\");\n",
       "    node.appendChild(script);\n",
       "  }\n",
       "\n",
       "  /**\n",
       "   * Handle when an output is cleared or removed\n",
       "   */\n",
       "  function handleClearOutput(event, handle) {\n",
       "    var cell = handle.cell;\n",
       "\n",
       "    var id = cell.output_area._bokeh_element_id;\n",
       "    var server_id = cell.output_area._bokeh_server_id;\n",
       "    // Clean up Bokeh references\n",
       "    if (id != null && id in Bokeh.index) {\n",
       "      Bokeh.index[id].model.document.clear();\n",
       "      delete Bokeh.index[id];\n",
       "    }\n",
       "\n",
       "    if (server_id !== undefined) {\n",
       "      // Clean up Bokeh references\n",
       "      var cmd = \"from bokeh.io.state import curstate; print(curstate().uuid_to_server['\" + server_id + \"'].get_sessions()[0].document.roots[0]._id)\";\n",
       "      cell.notebook.kernel.execute(cmd, {\n",
       "        iopub: {\n",
       "          output: function(msg) {\n",
       "            var id = msg.content.text.trim();\n",
       "            if (id in Bokeh.index) {\n",
       "              Bokeh.index[id].model.document.clear();\n",
       "              delete Bokeh.index[id];\n",
       "            }\n",
       "          }\n",
       "        }\n",
       "      });\n",
       "      // Destroy server and session\n",
       "      var cmd = \"import bokeh.io.notebook as ion; ion.destroy_server('\" + server_id + \"')\";\n",
       "      cell.notebook.kernel.execute(cmd);\n",
       "    }\n",
       "  }\n",
       "\n",
       "  /**\n",
       "   * Handle when a new output is added\n",
       "   */\n",
       "  function handleAddOutput(event, handle) {\n",
       "    var output_area = handle.output_area;\n",
       "    var output = handle.output;\n",
       "\n",
       "    // limit handleAddOutput to display_data with EXEC_MIME_TYPE content only\n",
       "    if ((output.output_type != \"display_data\") || (!output.data.hasOwnProperty(EXEC_MIME_TYPE))) {\n",
       "      return\n",
       "    }\n",
       "\n",
       "    var toinsert = output_area.element.find(\".\" + CLASS_NAME.split(' ')[0]);\n",
       "\n",
       "    if (output.metadata[EXEC_MIME_TYPE][\"id\"] !== undefined) {\n",
       "      toinsert[toinsert.length - 1].firstChild.textContent = output.data[JS_MIME_TYPE];\n",
       "      // store reference to embed id on output_area\n",
       "      output_area._bokeh_element_id = output.metadata[EXEC_MIME_TYPE][\"id\"];\n",
       "    }\n",
       "    if (output.metadata[EXEC_MIME_TYPE][\"server_id\"] !== undefined) {\n",
       "      var bk_div = document.createElement(\"div\");\n",
       "      bk_div.innerHTML = output.data[HTML_MIME_TYPE];\n",
       "      var script_attrs = bk_div.children[0].attributes;\n",
       "      for (var i = 0; i < script_attrs.length; i++) {\n",
       "        toinsert[toinsert.length - 1].firstChild.setAttribute(script_attrs[i].name, script_attrs[i].value);\n",
       "        toinsert[toinsert.length - 1].firstChild.textContent = bk_div.children[0].textContent\n",
       "      }\n",
       "      // store reference to server id on output_area\n",
       "      output_area._bokeh_server_id = output.metadata[EXEC_MIME_TYPE][\"server_id\"];\n",
       "    }\n",
       "  }\n",
       "\n",
       "  function register_renderer(events, OutputArea) {\n",
       "\n",
       "    function append_mime(data, metadata, element) {\n",
       "      // create a DOM node to render to\n",
       "      var toinsert = this.create_output_subarea(\n",
       "        metadata,\n",
       "        CLASS_NAME,\n",
       "        EXEC_MIME_TYPE\n",
       "      );\n",
       "      this.keyboard_manager.register_events(toinsert);\n",
       "      // Render to node\n",
       "      var props = {data: data, metadata: metadata[EXEC_MIME_TYPE]};\n",
       "      render(props, toinsert[toinsert.length - 1]);\n",
       "      element.append(toinsert);\n",
       "      return toinsert\n",
       "    }\n",
       "\n",
       "    /* Handle when an output is cleared or removed */\n",
       "    events.on('clear_output.CodeCell', handleClearOutput);\n",
       "    events.on('delete.Cell', handleClearOutput);\n",
       "\n",
       "    /* Handle when a new output is added */\n",
       "    events.on('output_added.OutputArea', handleAddOutput);\n",
       "\n",
       "    /**\n",
       "     * Register the mime type and append_mime function with output_area\n",
       "     */\n",
       "    OutputArea.prototype.register_mime_type(EXEC_MIME_TYPE, append_mime, {\n",
       "      /* Is output safe? */\n",
       "      safe: true,\n",
       "      /* Index of renderer in `output_area.display_order` */\n",
       "      index: 0\n",
       "    });\n",
       "  }\n",
       "\n",
       "  // register the mime type if in Jupyter Notebook environment and previously unregistered\n",
       "  if (root.Jupyter !== undefined) {\n",
       "    var events = require('base/js/events');\n",
       "    var OutputArea = require('notebook/js/outputarea').OutputArea;\n",
       "\n",
       "    if (OutputArea.prototype.mime_types().indexOf(EXEC_MIME_TYPE) == -1) {\n",
       "      register_renderer(events, OutputArea);\n",
       "    }\n",
       "  }\n",
       "\n",
       "  \n",
       "  if (typeof (root._bokeh_timeout) === \"undefined\" || force === true) {\n",
       "    root._bokeh_timeout = Date.now() + 5000;\n",
       "    root._bokeh_failed_load = false;\n",
       "  }\n",
       "\n",
       "  var NB_LOAD_WARNING = {'data': {'text/html':\n",
       "     \"<div style='background-color: #fdd'>\\n\"+\n",
       "     \"<p>\\n\"+\n",
       "     \"BokehJS does not appear to have successfully loaded. If loading BokehJS from CDN, this \\n\"+\n",
       "     \"may be due to a slow or bad network connection. Possible fixes:\\n\"+\n",
       "     \"</p>\\n\"+\n",
       "     \"<ul>\\n\"+\n",
       "     \"<li>re-rerun `output_notebook()` to attempt to load from CDN again, or</li>\\n\"+\n",
       "     \"<li>use INLINE resources instead, as so:</li>\\n\"+\n",
       "     \"</ul>\\n\"+\n",
       "     \"<code>\\n\"+\n",
       "     \"from bokeh.resources import INLINE\\n\"+\n",
       "     \"output_notebook(resources=INLINE)\\n\"+\n",
       "     \"</code>\\n\"+\n",
       "     \"</div>\"}};\n",
       "\n",
       "  function display_loaded() {\n",
       "    var el = document.getElementById(\"1357\");\n",
       "    if (el != null) {\n",
       "      el.textContent = \"BokehJS is loading...\";\n",
       "    }\n",
       "    if (root.Bokeh !== undefined) {\n",
       "      if (el != null) {\n",
       "        el.textContent = \"BokehJS \" + root.Bokeh.version + \" successfully loaded.\";\n",
       "      }\n",
       "    } else if (Date.now() < root._bokeh_timeout) {\n",
       "      setTimeout(display_loaded, 100)\n",
       "    }\n",
       "  }\n",
       "\n",
       "\n",
       "  function run_callbacks() {\n",
       "    try {\n",
       "      root._bokeh_onload_callbacks.forEach(function(callback) {\n",
       "        if (callback != null)\n",
       "          callback();\n",
       "      });\n",
       "    } finally {\n",
       "      delete root._bokeh_onload_callbacks\n",
       "    }\n",
       "    console.debug(\"Bokeh: all callbacks have finished\");\n",
       "  }\n",
       "\n",
       "  function load_libs(css_urls, js_urls, callback) {\n",
       "    if (css_urls == null) css_urls = [];\n",
       "    if (js_urls == null) js_urls = [];\n",
       "\n",
       "    root._bokeh_onload_callbacks.push(callback);\n",
       "    if (root._bokeh_is_loading > 0) {\n",
       "      console.debug(\"Bokeh: BokehJS is being loaded, scheduling callback at\", now());\n",
       "      return null;\n",
       "    }\n",
       "    if (js_urls == null || js_urls.length === 0) {\n",
       "      run_callbacks();\n",
       "      return null;\n",
       "    }\n",
       "    console.debug(\"Bokeh: BokehJS not loaded, scheduling load and callback at\", now());\n",
       "    root._bokeh_is_loading = css_urls.length + js_urls.length;\n",
       "\n",
       "    function on_load() {\n",
       "      root._bokeh_is_loading--;\n",
       "      if (root._bokeh_is_loading === 0) {\n",
       "        console.debug(\"Bokeh: all BokehJS libraries/stylesheets loaded\");\n",
       "        run_callbacks()\n",
       "      }\n",
       "    }\n",
       "\n",
       "    function on_error() {\n",
       "      console.error(\"failed to load \" + url);\n",
       "    }\n",
       "\n",
       "    for (var i = 0; i < css_urls.length; i++) {\n",
       "      var url = css_urls[i];\n",
       "      const element = document.createElement(\"link\");\n",
       "      element.onload = on_load;\n",
       "      element.onerror = on_error;\n",
       "      element.rel = \"stylesheet\";\n",
       "      element.type = \"text/css\";\n",
       "      element.href = url;\n",
       "      console.debug(\"Bokeh: injecting link tag for BokehJS stylesheet: \", url);\n",
       "      document.body.appendChild(element);\n",
       "    }\n",
       "\n",
       "    for (var i = 0; i < js_urls.length; i++) {\n",
       "      var url = js_urls[i];\n",
       "      var element = document.createElement('script');\n",
       "      element.onload = on_load;\n",
       "      element.onerror = on_error;\n",
       "      element.async = false;\n",
       "      element.src = url;\n",
       "      \n",
       "      console.debug(\"Bokeh: injecting script tag for BokehJS library: \", url);\n",
       "      document.head.appendChild(element);\n",
       "    }\n",
       "  };var element = document.getElementById(\"1357\");\n",
       "  if (element == null) {\n",
       "    console.error(\"Bokeh: ERROR: autoload.js configured with elementid '1357' but no matching script tag was found. \")\n",
       "    return false;\n",
       "  }\n",
       "\n",
       "  function inject_raw_css(css) {\n",
       "    const element = document.createElement(\"style\");\n",
       "    element.appendChild(document.createTextNode(css));\n",
       "    document.body.appendChild(element);\n",
       "  }\n",
       "\n",
       "  \n",
       "  var js_urls = [\"https://cdn.bokeh.org/bokeh/release/bokeh-2.0.0.min.js\", \"https://cdn.bokeh.org/bokeh/release/bokeh-widgets-2.0.0.min.js\", \"https://cdn.bokeh.org/bokeh/release/bokeh-tables-2.0.0.min.js\", \"https://cdn.bokeh.org/bokeh/release/bokeh-gl-2.0.0.min.js\"];\n",
       "  var css_urls = [];\n",
       "  \n",
       "\n",
       "  var inline_js = [\n",
       "    function(Bokeh) {\n",
       "      Bokeh.set_log_level(\"info\");\n",
       "    },\n",
       "    function(Bokeh) {\n",
       "    \n",
       "    \n",
       "    }\n",
       "  ];\n",
       "\n",
       "  function run_inline_js() {\n",
       "    \n",
       "    if (root.Bokeh !== undefined || force === true) {\n",
       "      \n",
       "    for (var i = 0; i < inline_js.length; i++) {\n",
       "      inline_js[i].call(root, root.Bokeh);\n",
       "    }\n",
       "    if (force === true) {\n",
       "        display_loaded();\n",
       "      }} else if (Date.now() < root._bokeh_timeout) {\n",
       "      setTimeout(run_inline_js, 100);\n",
       "    } else if (!root._bokeh_failed_load) {\n",
       "      console.log(\"Bokeh: BokehJS failed to load within specified timeout.\");\n",
       "      root._bokeh_failed_load = true;\n",
       "    } else if (force !== true) {\n",
       "      var cell = $(document.getElementById(\"1357\")).parents('.cell').data().cell;\n",
       "      cell.output_area.append_execute_result(NB_LOAD_WARNING)\n",
       "    }\n",
       "\n",
       "  }\n",
       "\n",
       "  if (root._bokeh_is_loading === 0) {\n",
       "    console.debug(\"Bokeh: BokehJS loaded, going straight to plotting\");\n",
       "    run_inline_js();\n",
       "  } else {\n",
       "    load_libs(css_urls, js_urls, function() {\n",
       "      console.debug(\"Bokeh: BokehJS plotting callback run at\", now());\n",
       "      run_inline_js();\n",
       "    });\n",
       "  }\n",
       "}(window));"
      ],
      "application/vnd.bokehjs_load.v0+json": "\n(function(root) {\n  function now() {\n    return new Date();\n  }\n\n  var force = true;\n\n  if (typeof root._bokeh_onload_callbacks === \"undefined\" || force === true) {\n    root._bokeh_onload_callbacks = [];\n    root._bokeh_is_loading = undefined;\n  }\n\n  \n\n  \n  if (typeof (root._bokeh_timeout) === \"undefined\" || force === true) {\n    root._bokeh_timeout = Date.now() + 5000;\n    root._bokeh_failed_load = false;\n  }\n\n  var NB_LOAD_WARNING = {'data': {'text/html':\n     \"<div style='background-color: #fdd'>\\n\"+\n     \"<p>\\n\"+\n     \"BokehJS does not appear to have successfully loaded. If loading BokehJS from CDN, this \\n\"+\n     \"may be due to a slow or bad network connection. Possible fixes:\\n\"+\n     \"</p>\\n\"+\n     \"<ul>\\n\"+\n     \"<li>re-rerun `output_notebook()` to attempt to load from CDN again, or</li>\\n\"+\n     \"<li>use INLINE resources instead, as so:</li>\\n\"+\n     \"</ul>\\n\"+\n     \"<code>\\n\"+\n     \"from bokeh.resources import INLINE\\n\"+\n     \"output_notebook(resources=INLINE)\\n\"+\n     \"</code>\\n\"+\n     \"</div>\"}};\n\n  function display_loaded() {\n    var el = document.getElementById(\"1357\");\n    if (el != null) {\n      el.textContent = \"BokehJS is loading...\";\n    }\n    if (root.Bokeh !== undefined) {\n      if (el != null) {\n        el.textContent = \"BokehJS \" + root.Bokeh.version + \" successfully loaded.\";\n      }\n    } else if (Date.now() < root._bokeh_timeout) {\n      setTimeout(display_loaded, 100)\n    }\n  }\n\n\n  function run_callbacks() {\n    try {\n      root._bokeh_onload_callbacks.forEach(function(callback) {\n        if (callback != null)\n          callback();\n      });\n    } finally {\n      delete root._bokeh_onload_callbacks\n    }\n    console.debug(\"Bokeh: all callbacks have finished\");\n  }\n\n  function load_libs(css_urls, js_urls, callback) {\n    if (css_urls == null) css_urls = [];\n    if (js_urls == null) js_urls = [];\n\n    root._bokeh_onload_callbacks.push(callback);\n    if (root._bokeh_is_loading > 0) {\n      console.debug(\"Bokeh: BokehJS is being loaded, scheduling callback at\", now());\n      return null;\n    }\n    if (js_urls == null || js_urls.length === 0) {\n      run_callbacks();\n      return null;\n    }\n    console.debug(\"Bokeh: BokehJS not loaded, scheduling load and callback at\", now());\n    root._bokeh_is_loading = css_urls.length + js_urls.length;\n\n    function on_load() {\n      root._bokeh_is_loading--;\n      if (root._bokeh_is_loading === 0) {\n        console.debug(\"Bokeh: all BokehJS libraries/stylesheets loaded\");\n        run_callbacks()\n      }\n    }\n\n    function on_error() {\n      console.error(\"failed to load \" + url);\n    }\n\n    for (var i = 0; i < css_urls.length; i++) {\n      var url = css_urls[i];\n      const element = document.createElement(\"link\");\n      element.onload = on_load;\n      element.onerror = on_error;\n      element.rel = \"stylesheet\";\n      element.type = \"text/css\";\n      element.href = url;\n      console.debug(\"Bokeh: injecting link tag for BokehJS stylesheet: \", url);\n      document.body.appendChild(element);\n    }\n\n    for (var i = 0; i < js_urls.length; i++) {\n      var url = js_urls[i];\n      var element = document.createElement('script');\n      element.onload = on_load;\n      element.onerror = on_error;\n      element.async = false;\n      element.src = url;\n      \n      console.debug(\"Bokeh: injecting script tag for BokehJS library: \", url);\n      document.head.appendChild(element);\n    }\n  };var element = document.getElementById(\"1357\");\n  if (element == null) {\n    console.error(\"Bokeh: ERROR: autoload.js configured with elementid '1357' but no matching script tag was found. \")\n    return false;\n  }\n\n  function inject_raw_css(css) {\n    const element = document.createElement(\"style\");\n    element.appendChild(document.createTextNode(css));\n    document.body.appendChild(element);\n  }\n\n  \n  var js_urls = [\"https://cdn.bokeh.org/bokeh/release/bokeh-2.0.0.min.js\", \"https://cdn.bokeh.org/bokeh/release/bokeh-widgets-2.0.0.min.js\", \"https://cdn.bokeh.org/bokeh/release/bokeh-tables-2.0.0.min.js\", \"https://cdn.bokeh.org/bokeh/release/bokeh-gl-2.0.0.min.js\"];\n  var css_urls = [];\n  \n\n  var inline_js = [\n    function(Bokeh) {\n      Bokeh.set_log_level(\"info\");\n    },\n    function(Bokeh) {\n    \n    \n    }\n  ];\n\n  function run_inline_js() {\n    \n    if (root.Bokeh !== undefined || force === true) {\n      \n    for (var i = 0; i < inline_js.length; i++) {\n      inline_js[i].call(root, root.Bokeh);\n    }\n    if (force === true) {\n        display_loaded();\n      }} else if (Date.now() < root._bokeh_timeout) {\n      setTimeout(run_inline_js, 100);\n    } else if (!root._bokeh_failed_load) {\n      console.log(\"Bokeh: BokehJS failed to load within specified timeout.\");\n      root._bokeh_failed_load = true;\n    } else if (force !== true) {\n      var cell = $(document.getElementById(\"1357\")).parents('.cell').data().cell;\n      cell.output_area.append_execute_result(NB_LOAD_WARNING)\n    }\n\n  }\n\n  if (root._bokeh_is_loading === 0) {\n    console.debug(\"Bokeh: BokehJS loaded, going straight to plotting\");\n    run_inline_js();\n  } else {\n    load_libs(css_urls, js_urls, function() {\n      console.debug(\"Bokeh: BokehJS plotting callback run at\", now());\n      run_inline_js();\n    });\n  }\n}(window));"
     },
     "metadata": {},
     "output_type": "display_data"
    },
    {
     "data": {
      "text/html": [
       "\n",
       "\n",
       "\n",
       "\n",
       "\n",
       "\n",
       "  <div class=\"bk-root\" id=\"93f287d1-1379-4895-a10c-c58aa3a4f480\" data-root-id=\"1360\"></div>\n"
      ]
     },
     "metadata": {},
     "output_type": "display_data"
    },
    {
     "data": {
      "application/javascript": [
       "(function(root) {\n",
       "  function embed_document(root) {\n",
       "    \n",
       "  var docs_json = {\"9cb89c31-bfda-46d5-98c6-4e3596af7099\":{\"roots\":{\"references\":[{\"attributes\":{\"below\":[{\"id\":\"1370\"}],\"center\":[{\"id\":\"1372\"},{\"id\":\"1376\"}],\"left\":[{\"id\":\"1373\"},{\"id\":\"1460\"}],\"plot_height\":400,\"plot_width\":900,\"renderers\":[{\"id\":\"1393\"},{\"id\":\"1398\"},{\"id\":\"1403\"},{\"id\":\"1408\"},{\"id\":\"1413\"},{\"id\":\"1418\"},{\"id\":\"1423\"},{\"id\":\"1428\"},{\"id\":\"1433\"},{\"id\":\"1438\"},{\"id\":\"1443\"},{\"id\":\"1448\"},{\"id\":\"1453\"},{\"id\":\"1458\"}],\"title\":{\"id\":\"1361\"},\"toolbar\":{\"id\":\"1383\"},\"toolbar_location\":null,\"x_range\":{\"id\":\"1359\"},\"x_scale\":{\"id\":\"1366\"},\"y_range\":{\"id\":\"1364\"},\"y_scale\":{\"id\":\"1368\"}},\"id\":\"1360\",\"subtype\":\"Figure\",\"type\":\"Plot\"},{\"attributes\":{\"data_source\":{\"id\":\"1358\"},\"glyph\":{\"id\":\"1416\"},\"hover_glyph\":null,\"muted_glyph\":null,\"nonselection_glyph\":{\"id\":\"1417\"},\"selection_glyph\":null,\"view\":{\"id\":\"1419\"},\"visible\":false},\"id\":\"1418\",\"type\":\"GlyphRenderer\"},{\"attributes\":{\"active_drag\":\"auto\",\"active_inspect\":\"auto\",\"active_multi\":null,\"active_scroll\":\"auto\",\"active_tap\":\"auto\",\"tools\":[{\"id\":\"1377\"},{\"id\":\"1378\"},{\"id\":\"1379\"},{\"id\":\"1380\"},{\"id\":\"1381\"},{\"id\":\"1382\"}]},\"id\":\"1383\",\"type\":\"Toolbar\"},{\"attributes\":{\"data_source\":{\"id\":\"1358\"},\"glyph\":{\"id\":\"1446\"},\"hover_glyph\":null,\"muted_glyph\":null,\"nonselection_glyph\":{\"id\":\"1447\"},\"selection_glyph\":null,\"view\":{\"id\":\"1449\"},\"visible\":false},\"id\":\"1448\",\"type\":\"GlyphRenderer\"},{\"attributes\":{\"fill_alpha\":{\"value\":0.6},\"fill_color\":{\"value\":\"#a83248\"},\"line_color\":{\"value\":\"#a83248\"},\"top\":{\"field\":\"PROSTITUTION\"},\"width\":{\"value\":0.8},\"x\":{\"field\":\"Hour\"}},\"id\":\"1446\",\"type\":\"VBar\"},{\"attributes\":{\"factors\":[\"0\",\"1\",\"2\",\"3\",\"4\",\"5\",\"6\",\"7\",\"8\",\"9\",\"10\",\"11\",\"12\",\"13\",\"14\",\"15\",\"16\",\"17\",\"18\",\"19\",\"20\",\"21\",\"22\",\"23\"]},\"id\":\"1359\",\"type\":\"FactorRange\"},{\"attributes\":{\"fill_alpha\":{\"value\":0.1},\"fill_color\":{\"value\":\"#32a87f\"},\"line_alpha\":{\"value\":0.1},\"line_color\":{\"value\":\"#32a87f\"},\"top\":{\"field\":\"DRUNKENNESS\"},\"width\":{\"value\":0.8},\"x\":{\"field\":\"Hour\"}},\"id\":\"1417\",\"type\":\"VBar\"},{\"attributes\":{\"label\":{\"value\":\"STOLEN PROPERTY\"},\"renderers\":[{\"id\":\"1413\"}]},\"id\":\"1465\",\"type\":\"LegendItem\"},{\"attributes\":{\"source\":{\"id\":\"1358\"}},\"id\":\"1419\",\"type\":\"CDSView\"},{\"attributes\":{\"data_source\":{\"id\":\"1358\"},\"glyph\":{\"id\":\"1421\"},\"hover_glyph\":null,\"muted_glyph\":null,\"nonselection_glyph\":{\"id\":\"1422\"},\"selection_glyph\":null,\"view\":{\"id\":\"1424\"},\"visible\":false},\"id\":\"1423\",\"type\":\"GlyphRenderer\"},{\"attributes\":{\"data_source\":{\"id\":\"1358\"},\"glyph\":{\"id\":\"1451\"},\"hover_glyph\":null,\"muted_glyph\":null,\"nonselection_glyph\":{\"id\":\"1452\"},\"selection_glyph\":null,\"view\":{\"id\":\"1454\"},\"visible\":false},\"id\":\"1453\",\"type\":\"GlyphRenderer\"},{\"attributes\":{\"fill_alpha\":{\"value\":0.1},\"fill_color\":{\"value\":\"#2e292a\"},\"line_alpha\":{\"value\":0.1},\"line_color\":{\"value\":\"#2e292a\"},\"top\":{\"field\":\"DRUG/NARCOTIC\"},\"width\":{\"value\":0.8},\"x\":{\"field\":\"Hour\"}},\"id\":\"1457\",\"type\":\"VBar\"},{\"attributes\":{\"fill_alpha\":{\"value\":0.6},\"fill_color\":{\"value\":\"#3283a8\"},\"line_color\":{\"value\":\"#3283a8\"},\"top\":{\"field\":\"DISORDERLY CONDUCT\"},\"width\":{\"value\":0.8},\"x\":{\"field\":\"Hour\"}},\"id\":\"1421\",\"type\":\"VBar\"},{\"attributes\":{\"source\":{\"id\":\"1358\"}},\"id\":\"1449\",\"type\":\"CDSView\"},{\"attributes\":{\"data_source\":{\"id\":\"1358\"},\"glyph\":{\"id\":\"1396\"},\"hover_glyph\":null,\"muted_glyph\":null,\"nonselection_glyph\":{\"id\":\"1397\"},\"selection_glyph\":null,\"view\":{\"id\":\"1399\"},\"visible\":false},\"id\":\"1398\",\"type\":\"GlyphRenderer\"},{\"attributes\":{\"fill_alpha\":{\"value\":0.1},\"fill_color\":{\"value\":\"#a83248\"},\"line_alpha\":{\"value\":0.1},\"line_color\":{\"value\":\"#a83248\"},\"top\":{\"field\":\"PROSTITUTION\"},\"width\":{\"value\":0.8},\"x\":{\"field\":\"Hour\"}},\"id\":\"1447\",\"type\":\"VBar\"},{\"attributes\":{\"data_source\":{\"id\":\"1358\"},\"glyph\":{\"id\":\"1426\"},\"hover_glyph\":null,\"muted_glyph\":null,\"nonselection_glyph\":{\"id\":\"1427\"},\"selection_glyph\":null,\"view\":{\"id\":\"1429\"},\"visible\":false},\"id\":\"1428\",\"type\":\"GlyphRenderer\"},{\"attributes\":{\"fill_alpha\":{\"value\":0.6},\"fill_color\":{\"value\":\"#a86932\"},\"line_color\":{\"value\":\"#a86932\"},\"top\":{\"field\":\"VEHICLE THEFT\"},\"width\":{\"value\":0.8},\"x\":{\"field\":\"Hour\"}},\"id\":\"1396\",\"type\":\"VBar\"},{\"attributes\":{\"data_source\":{\"id\":\"1358\"},\"glyph\":{\"id\":\"1401\"},\"hover_glyph\":null,\"muted_glyph\":null,\"nonselection_glyph\":{\"id\":\"1402\"},\"selection_glyph\":null,\"view\":{\"id\":\"1404\"},\"visible\":false},\"id\":\"1403\",\"type\":\"GlyphRenderer\"},{\"attributes\":{\"source\":{\"id\":\"1358\"}},\"id\":\"1424\",\"type\":\"CDSView\"},{\"attributes\":{\"label\":{\"value\":\"LARCENY/THEFT\"},\"renderers\":[{\"id\":\"1403\"}]},\"id\":\"1463\",\"type\":\"LegendItem\"},{\"attributes\":{\"fill_alpha\":{\"value\":0.1},\"fill_color\":{\"value\":\"#3283a8\"},\"line_alpha\":{\"value\":0.1},\"line_color\":{\"value\":\"#3283a8\"},\"top\":{\"field\":\"DISORDERLY CONDUCT\"},\"width\":{\"value\":0.8},\"x\":{\"field\":\"Hour\"}},\"id\":\"1422\",\"type\":\"VBar\"},{\"attributes\":{\"fill_alpha\":{\"value\":0.6},\"fill_color\":{\"value\":\"#b59399\"},\"line_color\":{\"value\":\"#b59399\"},\"top\":{\"field\":\"WEAPON LAWS\"},\"width\":{\"value\":0.8},\"x\":{\"field\":\"Hour\"}},\"id\":\"1451\",\"type\":\"VBar\"},{\"attributes\":{\"label\":{\"value\":\"DRIVING UNDER THE INFLUENCE\"},\"renderers\":[{\"id\":\"1408\"}]},\"id\":\"1464\",\"type\":\"LegendItem\"},{\"attributes\":{\"source\":{\"id\":\"1358\"}},\"id\":\"1399\",\"type\":\"CDSView\"},{\"attributes\":{\"fill_alpha\":{\"value\":0.1},\"fill_color\":{\"value\":\"#a86932\"},\"line_alpha\":{\"value\":0.1},\"line_color\":{\"value\":\"#a86932\"},\"top\":{\"field\":\"VEHICLE THEFT\"},\"width\":{\"value\":0.8},\"x\":{\"field\":\"Hour\"}},\"id\":\"1397\",\"type\":\"VBar\"},{\"attributes\":{\"label\":{\"value\":\"ROBBERY\"},\"renderers\":[{\"id\":\"1438\"}]},\"id\":\"1470\",\"type\":\"LegendItem\"},{\"attributes\":{\"fill_alpha\":{\"value\":0.6},\"fill_color\":{\"value\":\"#2e292a\"},\"line_color\":{\"value\":\"#2e292a\"},\"top\":{\"field\":\"DRUG/NARCOTIC\"},\"width\":{\"value\":0.8},\"x\":{\"field\":\"Hour\"}},\"id\":\"1456\",\"type\":\"VBar\"},{\"attributes\":{\"fill_alpha\":{\"value\":0.6},\"fill_color\":{\"value\":\"#324aa8\"},\"line_color\":{\"value\":\"#324aa8\"},\"top\":{\"field\":\"VANDALISM\"},\"width\":{\"value\":0.8},\"x\":{\"field\":\"Hour\"}},\"id\":\"1426\",\"type\":\"VBar\"},{\"attributes\":{\"source\":{\"id\":\"1358\"}},\"id\":\"1454\",\"type\":\"CDSView\"},{\"attributes\":{\"fill_alpha\":{\"value\":0.1},\"fill_color\":{\"value\":\"#b59399\"},\"line_alpha\":{\"value\":0.1},\"line_color\":{\"value\":\"#b59399\"},\"top\":{\"field\":\"WEAPON LAWS\"},\"width\":{\"value\":0.8},\"x\":{\"field\":\"Hour\"}},\"id\":\"1452\",\"type\":\"VBar\"},{\"attributes\":{\"data_source\":{\"id\":\"1358\"},\"glyph\":{\"id\":\"1431\"},\"hover_glyph\":null,\"muted_glyph\":null,\"nonselection_glyph\":{\"id\":\"1432\"},\"selection_glyph\":null,\"view\":{\"id\":\"1434\"},\"visible\":false},\"id\":\"1433\",\"type\":\"GlyphRenderer\"},{\"attributes\":{\"fill_alpha\":{\"value\":0.6},\"fill_color\":{\"value\":\"#a8a232\"},\"line_color\":{\"value\":\"#a8a232\"},\"top\":{\"field\":\"LARCENY/THEFT\"},\"width\":{\"value\":0.8},\"x\":{\"field\":\"Hour\"}},\"id\":\"1401\",\"type\":\"VBar\"},{\"attributes\":{\"label\":{\"value\":\"VEHICLE THEFT\"},\"renderers\":[{\"id\":\"1398\"}]},\"id\":\"1462\",\"type\":\"LegendItem\"},{\"attributes\":{\"data_source\":{\"id\":\"1358\"},\"glyph\":{\"id\":\"1406\"},\"hover_glyph\":null,\"muted_glyph\":null,\"nonselection_glyph\":{\"id\":\"1407\"},\"selection_glyph\":null,\"view\":{\"id\":\"1409\"},\"visible\":false},\"id\":\"1408\",\"type\":\"GlyphRenderer\"},{\"attributes\":{\"source\":{\"id\":\"1358\"}},\"id\":\"1429\",\"type\":\"CDSView\"},{\"attributes\":{\"fill_alpha\":{\"value\":0.1},\"fill_color\":{\"value\":\"#324aa8\"},\"line_alpha\":{\"value\":0.1},\"line_color\":{\"value\":\"#324aa8\"},\"top\":{\"field\":\"VANDALISM\"},\"width\":{\"value\":0.8},\"x\":{\"field\":\"Hour\"}},\"id\":\"1427\",\"type\":\"VBar\"},{\"attributes\":{\"label\":{\"value\":\"DRUNKENNESS\"},\"renderers\":[{\"id\":\"1418\"}]},\"id\":\"1466\",\"type\":\"LegendItem\"},{\"attributes\":{\"source\":{\"id\":\"1358\"}},\"id\":\"1404\",\"type\":\"CDSView\"},{\"attributes\":{\"label\":{\"value\":\"DISORDERLY CONDUCT\"},\"renderers\":[{\"id\":\"1423\"}]},\"id\":\"1467\",\"type\":\"LegendItem\"},{\"attributes\":{\"fill_alpha\":{\"value\":0.1},\"fill_color\":{\"value\":\"#a8a232\"},\"line_alpha\":{\"value\":0.1},\"line_color\":{\"value\":\"#a8a232\"},\"top\":{\"field\":\"LARCENY/THEFT\"},\"width\":{\"value\":0.8},\"x\":{\"field\":\"Hour\"}},\"id\":\"1402\",\"type\":\"VBar\"},{\"attributes\":{\"label\":{\"value\":\"VANDALISM\"},\"renderers\":[{\"id\":\"1428\"}]},\"id\":\"1468\",\"type\":\"LegendItem\"},{\"attributes\":{\"fill_alpha\":{\"value\":0.6},\"fill_color\":{\"value\":\"#5d32a8\"},\"line_color\":{\"value\":\"#5d32a8\"},\"top\":{\"field\":\"BURGLARY\"},\"width\":{\"value\":0.8},\"x\":{\"field\":\"Hour\"}},\"id\":\"1431\",\"type\":\"VBar\"},{\"attributes\":{\"label\":{\"value\":\"BURGLARY\"},\"renderers\":[{\"id\":\"1433\"}]},\"id\":\"1469\",\"type\":\"LegendItem\"},{\"attributes\":{\"bottom_units\":\"screen\",\"fill_alpha\":0.5,\"fill_color\":\"lightgrey\",\"left_units\":\"screen\",\"level\":\"overlay\",\"line_alpha\":1.0,\"line_color\":\"black\",\"line_dash\":[4,4],\"line_width\":2,\"render_mode\":\"css\",\"right_units\":\"screen\",\"top_units\":\"screen\"},\"id\":\"1498\",\"type\":\"BoxAnnotation\"},{\"attributes\":{\"label\":{\"value\":\"ASSAULT\"},\"renderers\":[{\"id\":\"1443\"}]},\"id\":\"1471\",\"type\":\"LegendItem\"},{\"attributes\":{\"fill_alpha\":{\"value\":0.6},\"fill_color\":{\"value\":\"#9432a8\"},\"line_color\":{\"value\":\"#9432a8\"},\"top\":{\"field\":\"ROBBERY\"},\"width\":{\"value\":0.8},\"x\":{\"field\":\"Hour\"}},\"id\":\"1436\",\"type\":\"VBar\"},{\"attributes\":{\"label\":{\"value\":\"PROSTITUTION\"},\"renderers\":[{\"id\":\"1448\"}]},\"id\":\"1472\",\"type\":\"LegendItem\"},{\"attributes\":{\"data\":{\"ASSAULT\":{\"__ndarray__\":\"NnPKGM+LrD+Z/sZOVFeoP4Qph6mlD6Y/G3uhoc6Glj/QrcZ2BqKMPyOuXbMGBIc/9SdiUR9pjj+xp87D4o6WP3lO0EccKqE/Ss2wi+v1oj/l7batPfakPwhDZbJBTqY/wUdOU5anqz+qWhx2xfunP2Lp8jrQZqg/FNUVBtJYqz/61xDpGu2qP1GvskeAfKs/Snz2NUj/qj+am8oEdmaqP6v3HyznCqo/9oA7n/4Dqz8HoYVWadipP+RL11FlgKg/\",\"dtype\":\"float64\",\"shape\":[24]},\"BURGLARY\":{\"__ndarray__\":\"goaSzJmNoz+1Cq1G0VuZP78D3FvQU5s/u8NPs7gnnD+w98NcdPqYP9EwsLzpzpY/HUJxFF7alj9pJwU7yaahP7jQrJ1nXKs/rxREMSn6pz9CYaOfdUWmPxE5HxVZF6U/RIBz5s9PrD9yPbQkfZ6iP5HPcHS2fKQ/vXqirfropz93IoTCbamqP6CfOFgDzLE/mOT3pBfvsT+zvcOzCvuqP9tWgpCjkac/hR/vZHXDpj/6f0sGE5ulP/zMNJnZ+6M/\",\"dtype\":\"float64\",\"shape\":[24]},\"DISORDERLY CONDUCT\":{\"__ndarray__\":\"VxGdUt3Fqj+V6i7WKqKjPxQENNf3l6E/OYZiW8AHlj8ENNf3l1GQP9tUoOLvWKQ/7fHyv7WzuT9zAuxNLlu3P+tXB8TpirE/XQiR34h3qj8C7E0uW5emP7Koc8/hS6Q/ggVTLyiNpD8Y5qicAHujP7W98paEGqI/wavasNt9oT/C/TzjauyfPzsgTleMMJ4/UZU8kQi6oD8agJSYzKObP0BKTObRzZk/9LXcSsd5nT+P8zpJf/CjP0xrPgLDHKU/\",\"dtype\":\"float64\",\"shape\":[24]},\"DRIVING UNDER THE INFLUENCE\":{\"__ndarray__\":\"g5GJp3AowD+FUK2gZ229P2MW2lQRkL0/s8N6vH4tqj8RqhX0rK2TP2oflQfvYoY/O6zH69eiiT+3NJbgaviAP2d6yar7m4A/KTZiMDLxhD/pTC9ZdX9zP/gdybcnaoI/KTZiMDLxhD+qCMjeq9SHP2zEYGTiKYw/cDV8iM70kj8Efkfy7YmaP9NLVt3fhKA/MExJsRGDoT81fIjO9JKlP8/aOrnzuak/lfrClBQbsT8KlC5zzRu3P6FnbZ3c+bw/\",\"dtype\":\"float64\",\"shape\":[24]},\"DRUG/NARCOTIC\":{\"__ndarray__\":\"p2I58CAooD+6PiDzn7aTP9PlBRX4zo8/e9gyhCSShT+E6jnmUHd/P/tSFvDQXXA/t8ViP8Hwhj+RGM5hajyaPyLrofQPaKE/7rXeavlapD9NRolZzOWmP8sV+qAOgak/z3mue9Wcqj9FPCW2+xaxPzaSPR24ObM/+aQNYhvbsT8gWkX+zaWyPyntYtmEILM/qXfnxZD1sD8uJwUCHOisP3bGdRuo86U/kr4zMcSopD+2+q0ZmK2oP1MGT1D+BqU/\",\"dtype\":\"float64\",\"shape\":[24]},\"DRUNKENNESS\":{\"__ndarray__\":\"B0Egpc+ftT8beC9BrXO0Pzlnsx2mTLE/qFvxaML9mj9u7515griLP8aODD8mwnI/f4C+OO/hgD+LLXZk+DGRPxZgjJqKXJA/XW7aoME8kj92vYzjwSeVP81XW9fLOJ4/ZDcpOWeznT9kNyk5Z7OdP4stdmT4MaE/IwKHsYH3oj+Iu8GaRsWmPyKFFdO91ao/mEdCiBn2rT9AMAK2S8OsP+oNBc9r260/qhE9LN9VsD+mqkV3P56zP3KaLCiNW7M/\",\"dtype\":\"float64\",\"shape\":[24]},\"Hour\":{\"__ndarray__\":\"AAAAAAEAAAACAAAAAwAAAAQAAAAFAAAABgAAAAcAAAAIAAAACQAAAAoAAAALAAAADAAAAA0AAAAOAAAADwAAABAAAAARAAAAEgAAABMAAAAUAAAAFQAAABYAAAAXAAAA\",\"dtype\":\"int32\",\"shape\":[24]},\"LARCENY/THEFT\":{\"__ndarray__\":\"vuL9CVlfpD+XZY/BXCCZP5/Rb+vYXZA/yu3RvEWRhD9nxuIi28J6P0WwFeyX43o/M88s6n8jhT9YVvSRmKKQP2Mqp37KOpw/N0AnW1XDoD8qEzojTe6kP7YWQhpKEac/Curr3s2JrT/ngFQmdEaqPzgI1eOdLqs/ORS1dh3grD+X/0MyCjeuP0SkNVkYMrE/jcu1f0WOtD8hpKEUcUSzPwhpKEUc0bA/kktIaPpLrD9aRitpvImrP0KGBWpZ9qg/\",\"dtype\":\"float64\",\"shape\":[24]},\"PROSTITUTION\":{\"__ndarray__\":\"HpRVBXQbtT/GyI7h6V6wP4tKFQ9IX6g/cF6biPDEoD9dPPZAWgCdP4TL31hisKE/2kGYL0ujnz+laaQinG6QPwcJr0mto4I/fZOyVghggz9JyxqcmEyHP594f9TNfIo/smcPj2fMnT8v4zfqkHqUP6Xr7wzE0pI/+x43BHEvjT/0m2p5O7iRP4uFWEXkZKI/Iq4gHHnfsT8R4YkhhOS0PwGOEGgXvbA/gfDuTEm6sz8yg+W/DWu4P68GPMTWqbg/\",\"dtype\":\"float64\",\"shape\":[24]},\"ROBBERY\":{\"__ndarray__\":\"clO63kZiqz+1WjdwlRSsP76P9VFGSq0/FlYHTaKfoT/jdFTzltaWP40DW57muJM/u0fuoHAnkz+8rEC6DjaRP8KIkdBck5M/K8lZAg0rlz8R4111qfGaP5eMBX+oR54/Egl/z3r9oT/BDoR3ei6jP6DSKXvmMqQ/K8lZAg0rpz9CgF5DljipP1kiqETb76g/CqK6Rb2Fqj9ouanj9x2sP+1iUe32c68/slWpkk6/sT+3X7g855OxP64q+lo2XrA/\",\"dtype\":\"float64\",\"shape\":[24]},\"STOLEN PROPERTY\":{\"__ndarray__\":\"adhUOcMcqD91S7W5+vagPw3/I6gKa5w/dl8aLasLlj8FfSt0ZKKTP7+suAo6qI4/NIAPEBIjkT9kq72SIM2YP9nOqGW6mp8/FjGIDu/goD8n+UkcKjSjP0Gl7LACsaY/V66q2JBorT/ET513hG2rPyghFAOLXa0/6wy4OZ1jrz8aXh+1kTCwPzAOn0xDjrA/69CI34slsD9KE4Bx+GSqPzQeJ70awqg/BQferbwspj/RTLAxFNKmP4vKwKcwJKU/\",\"dtype\":\"float64\",\"shape\":[24]},\"TRESPASS\":{\"__ndarray__\":\"RMJhJShGnj9ECpTZXiqVP1W7qJXG2Zc/+Wjhsw57kz9BNO6HMfWMP7uinfj4RZw/RokbdKPurj+mUoFXSMiwP0dQ1cIel68/sA1wd344rD9cnkkfLySrP6IjFQqSMao/SgJiujBarD/zBMjE6vSpP31IpUs1Z6c/Ef2W+d50qT9p5QOYu/SnP4prRmqmxag/uf/8A5kPpz93LL4QSMWkP8dGt3wl4KM/xX/9Lao3oz+WD2Du0l+gPyJ1ZQTCzJw/\",\"dtype\":\"float64\",\"shape\":[24]},\"VANDALISM\":{\"__ndarray__\":\"TrMVVjfTrD8hqJP5HyCkPzzlER2f+6I/79+qP8CRmT+OdRbOayKRPx1CsfWSbYw/NkJt+StgkD816+ifcDeWP5Nd/r6MQKA/llV9EcWmnj9yZvwfAaafP5CUC9pU9J0/w5LI9zZ4pD9TX2MfXsOfP2DUkg5j/KE/bjXGhwoupT+U2T3oqHOnPxg8/PB0OK8/fO19Wm2Isj+AZy+3SM6wP7TJJK7BprA/qSOuZ2zysD/kQE/S3USxPxc/39KwVK8/\",\"dtype\":\"float64\",\"shape\":[24]},\"VEHICLE THEFT\":{\"__ndarray__\":\"W/eRp2FJoz//ztAQ2lOaP65byo/515Q/lgRqRWTuiT9yi4O91waEP3KLg73XBoQ/vSO/bXOajT/qJHhk8WuZP0k30mQGN6I/F7y36NjZoT8ZD+84GrygP5Apn3QfBp4/ZB/WVqAtpj/LF8FmwJWfP2/srRp/f6I/3Hs5Mtm+pT/cA47E7uCpPwxj0U3eG7E/HvpiLorotD8p6c9W7kKyP/Iw5SDyLbM/P3VN41dssj8Mq7Vb73azP545BWQU9rA/\",\"dtype\":\"float64\",\"shape\":[24]},\"WEAPON LAWS\":{\"__ndarray__\":\"2B2woPaSqj+6NzxNvpijP/IcE4pkeqE/M5eCnWillT+N61euATONPyyHGoA524A/hNeVyUY2hz+7ur8ip36UP582LIAKGJw/aXZSLz27oT+SlzI3T9CiPwx6/FziwqU/JdU4TBpyqT/CyidA1kipPzmjkPMLPak/Kt+ZvndwrD/KW2ZPqF+uPwRFl1Pac60/Bkue/qs/rz/JWblrYsatP50y0rh+5ao/KFwW6Y6Kqz+ObtuD6hiuP2RJobRM0as/\",\"dtype\":\"float64\",\"shape\":[24]},\"index\":[0,1,2,3,4,5,6,7,8,9,10,11,12,13,14,15,16,17,18,19,20,21,22,23]},\"selected\":{\"id\":\"1497\"},\"selection_policy\":{\"id\":\"1496\"}},\"id\":\"1358\",\"type\":\"ColumnDataSource\"},{\"attributes\":{\"source\":{\"id\":\"1358\"}},\"id\":\"1434\",\"type\":\"CDSView\"},{\"attributes\":{\"label\":{\"value\":\"WEAPON LAWS\"},\"renderers\":[{\"id\":\"1453\"}]},\"id\":\"1473\",\"type\":\"LegendItem\"},{\"attributes\":{\"fill_alpha\":{\"value\":0.1},\"fill_color\":{\"value\":\"#5d32a8\"},\"line_alpha\":{\"value\":0.1},\"line_color\":{\"value\":\"#5d32a8\"},\"top\":{\"field\":\"BURGLARY\"},\"width\":{\"value\":0.8},\"x\":{\"field\":\"Hour\"}},\"id\":\"1432\",\"type\":\"VBar\"},{\"attributes\":{\"data_source\":{\"id\":\"1358\"},\"glyph\":{\"id\":\"1411\"},\"hover_glyph\":null,\"muted_glyph\":null,\"nonselection_glyph\":{\"id\":\"1412\"},\"selection_glyph\":null,\"view\":{\"id\":\"1414\"},\"visible\":false},\"id\":\"1413\",\"type\":\"GlyphRenderer\"},{\"attributes\":{\"fill_alpha\":{\"value\":0.1},\"fill_color\":{\"value\":\"#7da832\"},\"line_alpha\":{\"value\":0.1},\"line_color\":{\"value\":\"#7da832\"},\"top\":{\"field\":\"DRIVING UNDER THE INFLUENCE\"},\"width\":{\"value\":0.8},\"x\":{\"field\":\"Hour\"}},\"id\":\"1407\",\"type\":\"VBar\"},{\"attributes\":{\"label\":{\"value\":\"DRUG/NARCOTIC\"},\"renderers\":[{\"id\":\"1458\"}]},\"id\":\"1474\",\"type\":\"LegendItem\"},{\"attributes\":{\"data_source\":{\"id\":\"1358\"},\"glyph\":{\"id\":\"1436\"},\"hover_glyph\":null,\"muted_glyph\":null,\"nonselection_glyph\":{\"id\":\"1437\"},\"selection_glyph\":null,\"view\":{\"id\":\"1439\"},\"visible\":false},\"id\":\"1438\",\"type\":\"GlyphRenderer\"},{\"attributes\":{\"source\":{\"id\":\"1358\"}},\"id\":\"1409\",\"type\":\"CDSView\"},{\"attributes\":{},\"id\":\"1495\",\"type\":\"CategoricalTickFormatter\"},{\"attributes\":{\"data_source\":{\"id\":\"1358\"},\"glyph\":{\"id\":\"1456\"},\"hover_glyph\":null,\"muted_glyph\":null,\"nonselection_glyph\":{\"id\":\"1457\"},\"selection_glyph\":null,\"view\":{\"id\":\"1459\"},\"visible\":false},\"id\":\"1458\",\"type\":\"GlyphRenderer\"},{\"attributes\":{\"fill_alpha\":{\"value\":0.6},\"fill_color\":{\"value\":\"#32a83c\"},\"line_color\":{\"value\":\"#32a83c\"},\"top\":{\"field\":\"STOLEN PROPERTY\"},\"width\":{\"value\":0.8},\"x\":{\"field\":\"Hour\"}},\"id\":\"1411\",\"type\":\"VBar\"},{\"attributes\":{\"fill_alpha\":{\"value\":0.1},\"fill_color\":{\"value\":\"#a83273\"},\"line_alpha\":{\"value\":0.1},\"line_color\":{\"value\":\"#a83273\"},\"top\":{\"field\":\"ASSAULT\"},\"width\":{\"value\":0.8},\"x\":{\"field\":\"Hour\"}},\"id\":\"1442\",\"type\":\"VBar\"},{\"attributes\":{},\"id\":\"1496\",\"type\":\"UnionRenderers\"},{\"attributes\":{\"click_policy\":\"hide\",\"items\":[{\"id\":\"1461\"},{\"id\":\"1462\"},{\"id\":\"1463\"},{\"id\":\"1464\"},{\"id\":\"1465\"},{\"id\":\"1466\"},{\"id\":\"1467\"},{\"id\":\"1468\"},{\"id\":\"1469\"},{\"id\":\"1470\"},{\"id\":\"1471\"},{\"id\":\"1472\"},{\"id\":\"1473\"},{\"id\":\"1474\"}],\"location\":[0,0]},\"id\":\"1460\",\"type\":\"Legend\"},{\"attributes\":{},\"id\":\"1497\",\"type\":\"Selection\"},{\"attributes\":{\"source\":{\"id\":\"1358\"}},\"id\":\"1439\",\"type\":\"CDSView\"},{\"attributes\":{\"source\":{\"id\":\"1358\"}},\"id\":\"1459\",\"type\":\"CDSView\"},{\"attributes\":{\"fill_alpha\":{\"value\":0.1},\"fill_color\":{\"value\":\"#9432a8\"},\"line_alpha\":{\"value\":0.1},\"line_color\":{\"value\":\"#9432a8\"},\"top\":{\"field\":\"ROBBERY\"},\"width\":{\"value\":0.8},\"x\":{\"field\":\"Hour\"}},\"id\":\"1437\",\"type\":\"VBar\"},{\"attributes\":{\"source\":{\"id\":\"1358\"}},\"id\":\"1414\",\"type\":\"CDSView\"},{\"attributes\":{\"fill_alpha\":{\"value\":0.1},\"fill_color\":{\"value\":\"#32a83c\"},\"line_alpha\":{\"value\":0.1},\"line_color\":{\"value\":\"#32a83c\"},\"top\":{\"field\":\"STOLEN PROPERTY\"},\"width\":{\"value\":0.8},\"x\":{\"field\":\"Hour\"}},\"id\":\"1412\",\"type\":\"VBar\"},{\"attributes\":{\"fill_alpha\":{\"value\":0.6},\"fill_color\":{\"value\":\"#7da832\"},\"line_color\":{\"value\":\"#7da832\"},\"top\":{\"field\":\"DRIVING UNDER THE INFLUENCE\"},\"width\":{\"value\":0.8},\"x\":{\"field\":\"Hour\"}},\"id\":\"1406\",\"type\":\"VBar\"},{\"attributes\":{\"fill_alpha\":{\"value\":0.6},\"fill_color\":{\"value\":\"#32a87f\"},\"line_color\":{\"value\":\"#32a87f\"},\"top\":{\"field\":\"DRUNKENNESS\"},\"width\":{\"value\":0.8},\"x\":{\"field\":\"Hour\"}},\"id\":\"1416\",\"type\":\"VBar\"},{\"attributes\":{\"fill_alpha\":{\"value\":0.6},\"fill_color\":{\"value\":\"#a83273\"},\"line_color\":{\"value\":\"#a83273\"},\"top\":{\"field\":\"ASSAULT\"},\"width\":{\"value\":0.8},\"x\":{\"field\":\"Hour\"}},\"id\":\"1441\",\"type\":\"VBar\"},{\"attributes\":{\"data_source\":{\"id\":\"1358\"},\"glyph\":{\"id\":\"1441\"},\"hover_glyph\":null,\"muted_glyph\":null,\"nonselection_glyph\":{\"id\":\"1442\"},\"selection_glyph\":null,\"view\":{\"id\":\"1444\"},\"visible\":false},\"id\":\"1443\",\"type\":\"GlyphRenderer\"},{\"attributes\":{},\"id\":\"1366\",\"type\":\"CategoricalScale\"},{\"attributes\":{\"axis\":{\"id\":\"1370\"},\"ticker\":null},\"id\":\"1372\",\"type\":\"Grid\"},{\"attributes\":{},\"id\":\"1364\",\"type\":\"DataRange1d\"},{\"attributes\":{\"text\":\"Normalized crime rate over a day\"},\"id\":\"1361\",\"type\":\"Title\"},{\"attributes\":{\"data_source\":{\"id\":\"1358\"},\"glyph\":{\"id\":\"1391\"},\"hover_glyph\":null,\"muted_glyph\":null,\"nonselection_glyph\":{\"id\":\"1392\"},\"selection_glyph\":null,\"view\":{\"id\":\"1394\"},\"visible\":true},\"id\":\"1393\",\"type\":\"GlyphRenderer\"},{\"attributes\":{\"axis_label\":\"Hour of day\",\"formatter\":{\"id\":\"1495\"},\"ticker\":{\"id\":\"1371\"}},\"id\":\"1370\",\"type\":\"CategoricalAxis\"},{\"attributes\":{},\"id\":\"1368\",\"type\":\"LinearScale\"},{\"attributes\":{},\"id\":\"1371\",\"type\":\"CategoricalTicker\"},{\"attributes\":{\"axis_label\":\"Percentage of crime\",\"formatter\":{\"id\":\"1493\"},\"ticker\":{\"id\":\"1374\"}},\"id\":\"1373\",\"type\":\"LinearAxis\"},{\"attributes\":{},\"id\":\"1374\",\"type\":\"BasicTicker\"},{\"attributes\":{\"fill_alpha\":{\"value\":0.1},\"fill_color\":{\"value\":\"#a83232\"},\"line_alpha\":{\"value\":0.1},\"line_color\":{\"value\":\"#a83232\"},\"top\":{\"field\":\"TRESPASS\"},\"width\":{\"value\":0.8},\"x\":{\"field\":\"Hour\"}},\"id\":\"1392\",\"type\":\"VBar\"},{\"attributes\":{\"axis\":{\"id\":\"1373\"},\"dimension\":1,\"ticker\":null},\"id\":\"1376\",\"type\":\"Grid\"},{\"attributes\":{\"label\":{\"value\":\"TRESPASS\"},\"renderers\":[{\"id\":\"1393\"}]},\"id\":\"1461\",\"type\":\"LegendItem\"},{\"attributes\":{\"source\":{\"id\":\"1358\"}},\"id\":\"1394\",\"type\":\"CDSView\"},{\"attributes\":{},\"id\":\"1493\",\"type\":\"BasicTickFormatter\"},{\"attributes\":{\"fill_alpha\":{\"value\":0.6},\"fill_color\":{\"value\":\"#a83232\"},\"line_color\":{\"value\":\"#a83232\"},\"top\":{\"field\":\"TRESPASS\"},\"width\":{\"value\":0.8},\"x\":{\"field\":\"Hour\"}},\"id\":\"1391\",\"type\":\"VBar\"},{\"attributes\":{\"source\":{\"id\":\"1358\"}},\"id\":\"1444\",\"type\":\"CDSView\"},{\"attributes\":{},\"id\":\"1377\",\"type\":\"PanTool\"},{\"attributes\":{},\"id\":\"1378\",\"type\":\"WheelZoomTool\"},{\"attributes\":{\"overlay\":{\"id\":\"1498\"}},\"id\":\"1379\",\"type\":\"BoxZoomTool\"},{\"attributes\":{},\"id\":\"1380\",\"type\":\"SaveTool\"},{\"attributes\":{},\"id\":\"1382\",\"type\":\"HelpTool\"},{\"attributes\":{},\"id\":\"1381\",\"type\":\"ResetTool\"}],\"root_ids\":[\"1360\"]},\"title\":\"Bokeh Application\",\"version\":\"2.0.0\"}};\n",
       "  var render_items = [{\"docid\":\"9cb89c31-bfda-46d5-98c6-4e3596af7099\",\"root_ids\":[\"1360\"],\"roots\":{\"1360\":\"93f287d1-1379-4895-a10c-c58aa3a4f480\"}}];\n",
       "  root.Bokeh.embed.embed_items_notebook(docs_json, render_items);\n",
       "\n",
       "  }\n",
       "  if (root.Bokeh !== undefined) {\n",
       "    embed_document(root);\n",
       "  } else {\n",
       "    var attempts = 0;\n",
       "    var timer = setInterval(function(root) {\n",
       "      if (root.Bokeh !== undefined) {\n",
       "        clearInterval(timer);\n",
       "        embed_document(root);\n",
       "      } else {\n",
       "        attempts++;\n",
       "        if (attempts > 100) {\n",
       "          clearInterval(timer);\n",
       "          console.log(\"Bokeh: ERROR: Unable to run BokehJS code because BokehJS library is missing\");\n",
       "        }\n",
       "      }\n",
       "    }, 10, root)\n",
       "  }\n",
       "})(window);"
      ],
      "application/vnd.bokehjs_exec.v0+json": ""
     },
     "metadata": {
      "application/vnd.bokehjs_exec.v0+json": {
       "id": "1360"
      }
     },
     "output_type": "display_data"
    }
   ],
   "source": [
    "from bokeh.io import output_file, show, output_notebook\n",
    "from bokeh.models import ColumnDataSource\n",
    "from bokeh.models import FactorRange\n",
    "from bokeh.plotting import figure\n",
    "from bokeh.models import Legend\n",
    "\n",
    "output_notebook() # for outputting to notebook\n",
    "source = ColumnDataSource(crime_hour_norm_df) # data importing\n",
    "colors = [\"#a83232\", \"#a86932\", \"#a8a232\", \"#7da832\", \"#32a83c\", \"#32a87f\", \"#3283a8\",\"#324aa8\", \"#5d32a8\", \"#9432a8\", \"#a83273\", \"#a83248\", \"#b59399\", \"#2e292a\"]\n",
    "\n",
    "hours = []\n",
    "for i in range(24):\n",
    "    hours.append(str(i))\n",
    "\n",
    "p = figure(x_range = FactorRange(factors=hours), plot_height=400, plot_width=900, title=\"Normalized crime rate over a day\", \n",
    "           toolbar_location=None)\n",
    "items=[]\n",
    "bar ={} # to store vbars\n",
    "\n",
    "for indx,i in enumerate(focuscrimes):\n",
    "    \n",
    "    bar[i] = p.vbar(x='Hour',  top=i, source= source, visible = False, width= 0.8, color =colors[indx], fill_alpha =0.6) \n",
    "    items.append((i, [bar[i]]))\n",
    "    \n",
    "#p.legend.click_policy=\"hide\" ### assigns the click policy (you can try to use ''hide'\n",
    "#p.legend.location = 'top_left'\n",
    "\n",
    "legend = Legend(items=items, location=(0,0))\n",
    "legend.click_policy=\"hide\"\n",
    "\n",
    "p.add_layout(legend, 'left')\n",
    "p.xaxis.axis_label = \"Hour of day\"\n",
    "p.yaxis.axis_label = \"Percentage of crime\"\n",
    "\n",
    "bar['TRESPASS'].visible = True #we start with weapons laws just to display something\n",
    "\n",
    "show(p) #displays your plot\n"
   ]
  },
  {
   "cell_type": "markdown",
   "metadata": {},
   "source": []
  }
 ],
 "metadata": {
  "kernelspec": {
   "display_name": "Python 3",
   "language": "python",
   "name": "python3"
  },
  "language_info": {
   "codemirror_mode": {
    "name": "ipython",
    "version": 3
   },
   "file_extension": ".py",
   "mimetype": "text/x-python",
   "name": "python",
   "nbconvert_exporter": "python",
   "pygments_lexer": "ipython3",
   "version": "3.5.1"
  }
 },
 "nbformat": 4,
 "nbformat_minor": 4
}
