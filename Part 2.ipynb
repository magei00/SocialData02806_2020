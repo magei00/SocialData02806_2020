{
 "cells": [
  {
   "cell_type": "markdown",
   "metadata": {},
   "source": [
    "# Part 2: Thinking about data and visualization\n",
    "\n",
    "* **What is the difference between data and metadata? How does that relate to the bike-example?**\n",
    "\n",
    "If you consider a dataset , the data is the actual entries in the dataset, whereas metadata is data regarding the dataset, such as number of entries, how frequent the data was optained, or where it was optained. Just by using the metadata from a Smartwatch it is possible to plot when the owner was likely to go running or biking, from just the GPS's latitude and longitude.\n",
    "\n",
    "* **Sune says that the human eye is a great tool for data analysis. Do you agree? Explain why/why not. Mention something that the human eye is very good at. Can you think of something that is difficult for the human eye. Explain why your example is difficult.**\n",
    "\n",
    "The human eye is deffinetly a great tool. The human eye is good at catagorization, which is essentially pattern recognizion, however it is even better at finding things that don't fit in, such as outliers. One example of this is CGI, more specifically CGI humans, even though the eye might not be able to point out why, it can instantly tell if something is off.\n",
    "The human eye is prone to bias or tunnelvision, which might lead us miss something important. An example of this is the selective attention test by Daniel Simons and Christopher Chabris: https://www.youtube.com/watch?v=vJG698U2Mvo\n",
    "In the test six people pass two basket balls around and you are supposed to count the passes. However while doing so you will likely fail to notice the guy in a gorilla costume walking through the middle of the screen.\n",
    "\n",
    "\n",
    "\n",
    "* **Simpson's paradox is hard to explain. Come up with your own example - or find one on line.**\n",
    "\n",
    "An example of the Simpson's paradox could be that a friend and I played Mine Sweeper two days in a row.\n",
    "On the first day i play two games of which i win one. My friend plays ten games and wins six.\n",
    "On the second day i play ten games and win nine. My friend plays two games and wins both. seperately my friend has a higher succesrate both days, but when looking at the total successrate, mine is higher.\n",
    "\n",
    "   Day 1: Me: 1/2 = 50% Friend: **6/10 = 60%**\n",
    "   \n",
    "   Day 2: Me 9/10 = 90% Friend: **2/2 = 100%**\n",
    "    \n",
    "   Combined: Me: **10/12 = 83.3%** Friend: 8/12 = 66.6%   \n",
    "\n",
    "\n",
    "* **In your own words, explain the difference between exploratory and explanatory data analysis.**\n",
    "\n",
    "Exploratory data analysis is the main way to do new research. It can be used to learn new things about the data, which can be used to form a hypothesis. Explanatory data analysis on the other hand is usefull for communicating something about the data, that you already know (maybe something that follows a hypothesis from an exploratory data analysis) in a way that is easy to understand for others.\n",
    "\n",
    "\n",
    "\n",
    "* **As mentioned earlier, visualization is not the only way to test for correlation. We can (for example) calculate the Pearson correlation. Explain in your own words how the Pearson correlation works and write down it's mathematical formulation. Can you think of an example where it fails (and visualization works)?**\n",
    "\n",
    "The Pearson correlation describes how well the values of X and Y correlate in the form of a value between -1 and 1. -1 indicate a perfect inverse correlation, 0 indicates no correlation what so ever and 1 indicates perfect correlation. \n",
    "\n",
    "$$rX,Y = \\frac{{}\\sum_{i=1}^{n} (X_i - \\overline{X})(Y_i - \\overline{Y})}\n",
    "{\\sqrt{\\sum_{i=1}^{n} (X_i - \\overline{X})^2(Y_i - \\overline{Y})^2}}$$\n",
    "\n",
    "Pearson correlation describes the linear relationship between the two variables, so in case of a non-linear relation between X and Y, pearson correlation will likely fail, whereas it possibly would be revealed by visualization.  \n",
    "\n",
    "* **What is the difference between a bar-chart and a histogram?**\n",
    "\n",
    "In a bar-chart each bar represents a single value such as a country, a name or a year whereas in a histogram each bar represents a bin or a group of values. These groups can be based on age-groups, BMI, coffee consumption, anything really and it can provide great insight to corelelations or trends, which makes it a great tool for data analysis.      \n",
    "\n",
    "* **I mention in the video that it's important to choose the right bin-size in histograms. But how do you do that? Do a Google search to find a criterion you like and explain it.**\n",
    "\n",
    "A fast way of deciding the bin size is by using Sturge's Rule: $K = 3.322 log_N$\n",
    "Where K is the number of bins and N the number of obervations in the set. Sturge's Rule is most effective when working with continuos, symmetrical data that is normally destributed rather than skewed.\n",
    "\n"
   ]
  },
  {
   "cell_type": "code",
   "execution_count": null,
   "metadata": {},
   "outputs": [],
   "source": []
  },
  {
   "cell_type": "code",
   "execution_count": null,
   "metadata": {},
   "outputs": [],
   "source": []
  }
 ],
 "metadata": {
  "kernelspec": {
   "display_name": "Python 3",
   "language": "python",
   "name": "python3"
  },
  "language_info": {
   "codemirror_mode": {
    "name": "ipython",
    "version": 3
   },
   "file_extension": ".py",
   "mimetype": "text/x-python",
   "name": "python",
   "nbconvert_exporter": "python",
   "pygments_lexer": "ipython3",
   "version": "3.7.4"
  }
 },
 "nbformat": 4,
 "nbformat_minor": 2
}
