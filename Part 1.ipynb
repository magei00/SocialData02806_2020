{
 "cells": [
  {
   "cell_type": "code",
   "execution_count": 1,
   "metadata": {},
   "outputs": [],
   "source": [
    "import numpy as np\n",
    "import pandas as pd\n",
    "import matplotlib.pyplot as plt\n",
    "from datetime import date\n",
    "import calendar"
   ]
  },
  {
   "cell_type": "markdown",
   "metadata": {},
   "source": [
    "# Part 1: Temporal Patterns\n",
    "\n"
   ]
  },
  {
   "cell_type": "code",
   "execution_count": 2,
   "metadata": {},
   "outputs": [],
   "source": [
    "df = pd.read_csv('Police_Department_Incident_Reports__Historical_2003_to_May_2018.csv')"
   ]
  },
  {
   "cell_type": "code",
   "execution_count": 3,
   "metadata": {},
   "outputs": [],
   "source": [
    "df = df.drop(columns=['PdId','Descript','IncidntNum'])"
   ]
  },
  {
   "cell_type": "code",
   "execution_count": 4,
   "metadata": {},
   "outputs": [],
   "source": [
    "focuscrimes = set(['WEAPON LAWS', 'PROSTITUTION', 'DRIVING UNDER THE INFLUENCE', 'ROBBERY', 'BURGLARY', 'ASSAULT', 'DRUNKENNESS', 'DRUG/NARCOTIC', 'TRESPASS', 'LARCENY/THEFT', 'VANDALISM', 'VEHICLE THEFT', 'STOLEN PROPERTY', 'DISORDERLY CONDUCT'])"
   ]
  },
  {
   "cell_type": "code",
   "execution_count": 5,
   "metadata": {},
   "outputs": [],
   "source": [
    "df = df.where(df.Category.isin(focuscrimes))"
   ]
  },
  {
   "cell_type": "code",
   "execution_count": 6,
   "metadata": {},
   "outputs": [],
   "source": [
    "df['Date'] = pd.to_datetime(df['Date'], format=\"%m/%d/%Y\")"
   ]
  },
  {
   "cell_type": "code",
   "execution_count": 7,
   "metadata": {},
   "outputs": [],
   "source": [
    "df['Month'] = df['Date'].dt.month\n",
    "df['Year'] = df['Date'].dt.year\n",
    "df['Day'] = df['Date'].dt.day\n",
    "df['WeekDay'] = df['Date'].dt.weekday\n",
    "df['Time'] = pd.to_datetime(df['Time'], format=\"%H:%M\")\n",
    "df['Hour'] = df['Time'].dt.hour\n",
    "df['Minute'] = df['Time'].dt.minute\n",
    "df['Time'] = df['Time'].dt.time\n"
   ]
  },
  {
   "cell_type": "code",
   "execution_count": 8,
   "metadata": {},
   "outputs": [],
   "source": [
    "prostitution = df[df['Category'] == 'PROSTITUTION']"
   ]
  },
  {
   "cell_type": "code",
   "execution_count": 9,
   "metadata": {},
   "outputs": [],
   "source": [
    "drunkdriving = df[df['Category'] == 'DRIVING UNDER THE INFLUENCE']"
   ]
  },
  {
   "cell_type": "code",
   "execution_count": 20,
   "metadata": {},
   "outputs": [],
   "source": [
    "wl = df[df['Category'] == 'WEAPON LAWS']"
   ]
  },
  {
   "cell_type": "code",
   "execution_count": 21,
   "metadata": {},
   "outputs": [],
   "source": [
    "rob = df[df['Category'] == 'ROBBERY']"
   ]
  },
  {
   "cell_type": "code",
   "execution_count": 22,
   "metadata": {},
   "outputs": [],
   "source": [
    "bur = df[df['Category'] == 'BURGLARY']"
   ]
  },
  {
   "cell_type": "code",
   "execution_count": 23,
   "metadata": {},
   "outputs": [],
   "source": [
    "drug = df[df['Category'] == 'DRUG/NARCOTIC']"
   ]
  },
  {
   "cell_type": "code",
   "execution_count": 25,
   "metadata": {},
   "outputs": [
    {
     "data": {
      "text/plain": [
       "Text(0.5, 1.0, 'PROSTITUTION')"
      ]
     },
     "execution_count": 25,
     "metadata": {},
     "output_type": "execute_result"
    },
    {
     "data": {
      "image/png": "[encoded data removed]",
      "text/plain": [
       "<Figure size 432x288 with 1 Axes>"
      ]
     },
     "metadata": {
      "needs_background": "light"
     },
     "output_type": "display_data"
    }
   ],
   "source": [
    "prostitution_plot = prostitution['WeekDay'].hist(bins=7)\n",
    "prostitution_plot.set_title('PROSTITUTION')\n"
   ]
  },
  {
   "cell_type": "code",
   "execution_count": 19,
   "metadata": {},
   "outputs": [
    {
     "data": {
      "text/plain": [
       "Text(0.5, 1.0, 'DRIVING UNDER THE INFLUENCE')"
      ]
     },
     "execution_count": 19,
     "metadata": {},
     "output_type": "execute_result"
    },
    {
     "data": {
      "image/png": "[encoded data removed]",
      "text/plain": [
       "<Figure size 432x288 with 1 Axes>"
      ]
     },
     "metadata": {
      "needs_background": "light"
     },
     "output_type": "display_data"
    }
   ],
   "source": [
    "drunkdriving_plot = drunkdriving['WeekDay'].hist(bins=7)\n",
    "drunkdriving_plot.set_title('DRIVING UNDER THE INFLUENCE')"
   ]
  },
  {
   "cell_type": "code",
   "execution_count": 56,
   "metadata": {},
   "outputs": [
    {
     "data": {
      "text/plain": [
       "Text(0.5, 1.0, 'BURGLARY')"
      ]
     },
     "execution_count": 56,
     "metadata": {},
     "output_type": "execute_result"
    },
    {
     "data": {
      "image/png": "[encoded data removed]",
      "text/plain": [
       "<Figure size 432x288 with 1 Axes>"
      ]
     },
     "metadata": {
      "needs_background": "light"
     },
     "output_type": "display_data"
    }
   ],
   "source": [
    "\n",
    "bur_plot = bur['WeekDay'].hist(bins=7)\n",
    "bur_plot.set_title('BURGLARY')"
   ]
  },
  {
   "cell_type": "code",
   "execution_count": 55,
   "metadata": {},
   "outputs": [],
   "source": [
    "#fig, ax=plt.subplots(nrows=2,ncols=3)\n",
    "#fig.set_size_inches(20,5)\n",
    "#fig.subplots_adjust(wspace=0.4)\n",
    "#ax[0,0] = drunkdriving['WeekDay'].hist(bins=7)\n",
    "#ax[0,0].text(0.5,0.5,str(('DRIVING UNDER THE INFLUENCE')),fontsize=14)\n",
    "#ax[0,1] = wl['WeekDay'].hist(bins=7)\n",
    "#ax[0,1].text(0.5,0.5,str(('WEAPON LAWS')),fontsize=14)\n"
   ]
  },
  {
   "cell_type": "code",
   "execution_count": 59,
   "metadata": {},
   "outputs": [
    {
     "data": {
      "text/plain": [
       "(array([1143., 3054., 3332., 3680., 2803., 1598., 1091.]),\n",
       " array([0.        , 0.85714286, 1.71428571, 2.57142857, 3.42857143,\n",
       "        4.28571429, 5.14285714, 6.        ]),\n",
       " <a list of 7 Patch objects>)"
      ]
     },
     "execution_count": 59,
     "metadata": {},
     "output_type": "execute_result"
    },
    {
     "data": {
      "image/png": "[encoded data removed]",
      "text/plain": [
       "<Figure size 1440x360 with 3 Axes>"
      ]
     },
     "metadata": {
      "needs_background": "light"
     },
     "output_type": "display_data"
    }
   ],
   "source": [
    "fig, ax=plt.subplots(nrows=1,ncols=3)\n",
    "fig.set_size_inches(20,5)\n",
    "plt.subplot(1,3,1)\n",
    "plt.title('BURGLARY')\n",
    "plt.hist(bur['WeekDay'],bins=7)\n",
    "plt.subplot(1,3,2)\n",
    "plt.title('DRIVING UNDER THE INFLUENCE')\n",
    "plt.hist(drunkdriving['WeekDay'],bins=7)\n",
    "plt.subplot(1,3,3)\n",
    "plt.title('PROSTITUTION')\n",
    "plt.hist(prostitution['WeekDay'],bins=7)\n"
   ]
  },
  {
   "cell_type": "code",
   "execution_count": 60,
   "metadata": {},
   "outputs": [
    {
     "data": {
      "text/plain": [
       "(array([1651., 1446., 1331., 1517., 1386., 1211., 1262., 1315., 1544.,\n",
       "        1371., 1388., 1279.]),\n",
       " array([ 1.        ,  1.91666667,  2.83333333,  3.75      ,  4.66666667,\n",
       "         5.58333333,  6.5       ,  7.41666667,  8.33333333,  9.25      ,\n",
       "        10.16666667, 11.08333333, 12.        ]),\n",
       " <a list of 12 Patch objects>)"
      ]
     },
     "execution_count": 60,
     "metadata": {},
     "output_type": "execute_result"
    },
    {
     "data": {
      "image/png": "[encoded data removed]",
      "text/plain": [
       "<Figure size 1440x360 with 3 Axes>"
      ]
     },
     "metadata": {
      "needs_background": "light"
     },
     "output_type": "display_data"
    }
   ],
   "source": [
    "fig, ax=plt.subplots(nrows=1,ncols=3)\n",
    "fig.set_size_inches(20,5)\n",
    "plt.subplot(1,3,1)\n",
    "plt.title('BURGLARY')\n",
    "plt.hist(bur['Month'],bins=12)\n",
    "plt.subplot(1,3,2)\n",
    "plt.title('DRIVING UNDER THE INFLUENCE')\n",
    "plt.hist(drunkdriving['Month'],bins=12)\n",
    "plt.subplot(1,3,3)\n",
    "plt.title('PROSTITUTION')\n",
    "plt.hist(prostitution['Month'],bins=12)"
   ]
  },
  {
   "cell_type": "code",
   "execution_count": 111,
   "metadata": {},
   "outputs": [],
   "source": [
    "bur1 = bur.groupby((bur['WeekDay']) * 24 + (bur['Hour'])).mean().rename_axis('HourOfWeek')\n",
    "drunkdriving1 = drunkdriving.groupby((drunkdriving['WeekDay']) * 24 + (drunkdriving['Hour'])).mean().rename_axis('HourOfWeek')\n",
    "prostitution1 = prostitution.groupby((prostitution['WeekDay']) * 24 + (prostitution['Hour'])).mean().rename_axis('HourOfWeek')"
   ]
  },
  {
   "cell_type": "code",
   "execution_count": 89,
   "metadata": {},
   "outputs": [],
   "source": [
    "#fig, ax=plt.subplots(nrows=1,ncols=3)\n",
    "#fig.set_size_inches(20,5)\n",
    "#plt.subplot(1,3,1)\n",
    "#plt.title('BURGLARY')\n",
    "#plt.hist(bur1['HourOfWeek'],bins=168)\n",
    "#plt.subplot(1,3,2)\n",
    "#plt.title('DRIVING UNDER THE INFLUENCE')\n",
    "#plt.hist(drunkdriving1['HourOfWeek'],bins=168)\n",
    "#plt.subplot(1,3,3)\n",
    "#plt.title('PROSTITUTION')\n",
    "#plt.hist(prostitution1['HourOfWeek'],bins=168)"
   ]
  },
  {
   "cell_type": "code",
   "execution_count": null,
   "metadata": {},
   "outputs": [],
   "source": []
  },
  {
   "cell_type": "code",
   "execution_count": null,
   "metadata": {},
   "outputs": [],
   "source": []
  },
  {
   "cell_type": "code",
   "execution_count": null,
   "metadata": {},
   "outputs": [],
   "source": []
  },
  {
   "cell_type": "code",
   "execution_count": null,
   "metadata": {},
   "outputs": [],
   "source": []
  }
 ],
 "metadata": {
  "kernelspec": {
   "display_name": "Python 3",
   "language": "python",
   "name": "python3"
  },
  "language_info": {
   "codemirror_mode": {
    "name": "ipython",
    "version": 3
   },
   "file_extension": ".py",
   "mimetype": "text/x-python",
   "name": "python",
   "nbconvert_exporter": "python",
   "pygments_lexer": "ipython3",
   "version": "3.7.4"
  }
 },
 "nbformat": 4,
 "nbformat_minor": 2
}
