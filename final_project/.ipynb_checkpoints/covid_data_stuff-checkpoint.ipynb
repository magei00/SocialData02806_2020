{
 "cells": [
  {
   "cell_type": "code",
   "execution_count": 1,
   "metadata": {},
   "outputs": [],
   "source": [
    "import numpy as np\n",
    "import pandas as pd\n",
    "import folium\n",
    "import matplotlib.pyplot as plt"
   ]
  },
  {
   "cell_type": "code",
   "execution_count": 2,
   "metadata": {},
   "outputs": [],
   "source": [
    "country_geo = 'datasets/all_countries.geo.json'"
   ]
  },
  {
   "cell_type": "code",
   "execution_count": 25,
   "metadata": {},
   "outputs": [],
   "source": [
    "## Gather all sets\n",
    "covid_data = pd.read_csv('datasets/COVID-19-worldwide.csv')\n",
    "pop_dens = pd.read_csv('datasets/population_density.csv')\n",
    "tourism_data = pd.read_csv('datasets/tourism_data.csv')\n",
    "#sqmt = pd.read_csv('datasets/squaremeter_per_country.csv')\n",
    "urban_area = pd.read_csv('datasets/urban_landarea.csv')\n",
    "urban_pop = pd.read_csv('datasets/urban_pop.csv')\n",
    "rural_pop = pd.read_csv('datasets/rural_pop.csv')\n",
    "trust_in_pol = pd.read_csv('datasets/trust_in_politicians.csv')\n",
    "gov_eff = pd.read_csv('datasets/gov_effectiveness.csv')\n",
    "\n",
    "## Set correct indices\n",
    "trust_in_pol.set_index('Country ISO3',inplace=True)\n",
    "gov_eff.set_index('Country ISO3',inplace=True)\n",
    "rural_pop.set_index('Country Code',inplace=True)\n",
    "urban_pop.set_index('Country Code',inplace=True)\n",
    "tourism_data.set_index('Country Code',inplace=True)\n",
    "pop_dens.set_index('Country Code',inplace=True)\n",
    "urban_area.set_index('Country Code',inplace=True)"
   ]
  },
  {
   "cell_type": "code",
   "execution_count": 26,
   "metadata": {},
   "outputs": [],
   "source": [
    "# Clean datasets\n",
    "trust_in_pol = trust_in_pol.loc[(trust_in_pol['Indicator'] == 'Public trust in politicians') & (trust_in_pol['Subindicator Type'] == '1-7 Best')]\n",
    "trust_in_pol = trust_in_pol[['Country Name','2017-2018']]\n",
    "trust_in_pol['2017-2018'] = trust_in_pol['2017-2018'].round(3);\n",
    "\n",
    "gov_stats = gov_eff[['Country Name','Indicator','Subindicator Type','2018']]\n",
    "gov_stats_corruption = gov_stats.loc[(gov_stats['Indicator'] == 'Control of Corruption') & (gov_stats['Subindicator Type'] == 'Estimate')]\n",
    "gov_stats_effectiveness = gov_stats.loc[(gov_stats['Indicator'] == 'Government Effectiveness') & (gov_stats['Subindicator Type'] == 'Estimate')]\n",
    "gov_stats_rule = gov_stats.loc[(gov_stats['Indicator'] == 'Rule of Law') & (gov_stats['Subindicator Type'] == 'Estimate')]\n",
    "gov_stats_reg = gov_stats.loc[(gov_stats['Indicator'] == 'Regulatory Quality') & (gov_stats['Subindicator Type'] == 'Estimate')]\n",
    "gov_stats_full = gov_stats_corruption.append([gov_stats_effectiveness,gov_stats_rule,gov_stats_reg])\n",
    "gov_stats_full.sort_index()\n",
    "gov_stats_full.dropna(inplace=True)\n",
    "\n",
    "rural_2018 = rural_pop[['Country Name','2018']]\n",
    "rural_2018 = rural_2018.drop(index=['SSF','WLD','HIC','OED','PST','ECS','IBT','LMY','EUU','MIC',\n",
    "                                    'IBD','EMU','UMC','LTE','EAS','EAR','TEC','EAP','TEA','ECA',\n",
    "                                    'LMC','LCN','MEA','ARB','NAC','TLA','CEB','LAC','MNA','TMN',\n",
    "                                    'SST','OSS','LDC','TSA','SAS','TSS','SSA','FCS','HPC','PRE'])\n",
    "\n",
    "urban_2018 = urban_pop[['Country Name','2018']]\n",
    "urban_2018 = urban_2018.drop(index=['SSF','WLD','HIC','OED','PST','ECS','IBT','LMY','EUU','MIC',\n",
    "                                    'IBD','EMU','UMC','LTE','EAS','EAR','TEC','EAP','TEA','ECA',\n",
    "                                    'LMC','LCN','MEA','ARB','NAC','TLA','CEB','LAC','MNA','TMN',\n",
    "                                    'SST','OSS','LDC','TSA','SAS','TSS','SSA','FCS','HPC','PRE'])\n",
    "\n",
    "pop_dens = pop_dens[['Country Name','2018']]"
   ]
  },
  {
   "cell_type": "code",
   "execution_count": null,
   "metadata": {},
   "outputs": [],
   "source": [
    "new_df = covid_data\n",
    "new_df = new_df.set_index('countryterritoryCode')\n",
    "new_df['total_deaths'] = 0\n",
    "new_df['total_cases'] = 0\n",
    "new_df['deaths_per_100k'] = 0\n",
    "new_df['cases_per_100k'] = 0\n",
    "new_df['current_infection_rate'] = 0\n",
    "new_df['tourists_per_100k'] = 0\n",
    "new_df['urban_pop_per_100k'] = 0\n",
    "new_df['rural_percent'] = 0\n",
    "new_df['trust_in_politicians'] = 0\n",
    "new_df['rule_of_law'] = 0\n",
    "new_df['gov_effectiveness'] = 0\n",
    "new_df['reg_quality'] = 0\n",
    "new_df['corruption_control'] = 0\n",
    "\n",
    "new_df = new_df[::-1]\n",
    "\n",
    "for idx, row in t.iterrows():\n",
    "    new_df.loc[[idx],['total_deaths']] = new_df.loc[idx]['deaths'].cumsum(axis=0)\n",
    "    new_df.loc[[idx],['total_cases']] = new_df.loc[idx]['cases'].cumsum(axis=0)\n",
    "    \n",
    "    new_df.loc[[idx],['deaths_per_100k']] = (100000 * (new_df.loc[idx]['total_deaths'] / new_df.loc[idx]['popData2018'])).round(3)\n",
    "    new_df.loc[[idx],['cases_per_100k']] = (100000 * (new_df.loc[idx]['total_cases'] / new_df.loc[idx]['popData2018'])).round(3)\n",
    "    \n",
    "    if(idx in urban_2018.index):\n",
    "        new_df.loc[[idx],['urban_pop_per_100k']] = (100000 * (urban_2018.loc[idx]['2018'] / new_df.loc[idx]['popData2018'])).round(3)\n",
    "        \n",
    "    if(idx in rural_2018.index):\n",
    "        new_df.loc[[idx],['rural_percent']] = rural_2018.loc[idx]['2018']\n",
    "\n",
    "    if(idx in trust_in_pol_cleaner.index):\n",
    "        new_df.loc[[idx],['trust_in_politicians']] = trust_in_pol_cleaner.loc[idx]['2017-2018']\n",
    "        \n",
    "    if(idx in gov_stats_full.index):\n",
    "        new_df.loc[[idx],['rule_of_law']] = gov_stats_rule.loc[idx]['2018']\n",
    "        new_df.loc[[idx],['gov_effectiveness']] = gov_stats_effectiveness.loc[idx]['2018']\n",
    "        new_df.loc[[idx],['reg_quality']] = gov_stats_corruption.loc[idx]['2018']\n",
    "        new_df.loc[[idx],['corruption_control']] = gov_stats_reg.loc[idx]['2018']"
   ]
  },
  {
   "cell_type": "code",
   "execution_count": null,
   "metadata": {},
   "outputs": [],
   "source": [
    "for i in range(2,len(new_df)):\n",
    "    current_country = new_df.iloc[i].name\n",
    "    previous_country = new_df.iloc[i-1].name\n",
    "    if(current_country == previous_country):\n",
    "        previous_cases = new_df.iloc[i-1,new_df.columns.get_loc('cases')]\n",
    "        current_cases = new_df.iloc[i,new_df.columns.get_loc('cases')]\n",
    "        # Avoiding zero-division\n",
    "        if(previous_cases > 0 and current_cases > 0):\n",
    "            new_df.iloc[i,new_df.columns.get_loc('current_infection_rate')] = (current_cases / previous_cases).round(1)"
   ]
  },
  {
   "cell_type": "code",
   "execution_count": null,
   "metadata": {},
   "outputs": [],
   "source": [
    "new_df = new_df[::-1]"
   ]
  },
  {
   "cell_type": "code",
   "execution_count": null,
   "metadata": {},
   "outputs": [],
   "source": [
    "new_df.loc['ITA'].head()"
   ]
  },
  {
   "cell_type": "code",
   "execution_count": null,
   "metadata": {},
   "outputs": [],
   "source": [
    "new_df[new_df['dateRep'] == '4/27/2020'].sort_values('urban_pop_per_100k',ascending=False)[:20]"
   ]
  },
  {
   "cell_type": "code",
   "execution_count": null,
   "metadata": {},
   "outputs": [],
   "source": [
    "bins = list(present_day_df['deaths_per_100k'].quantile([0,0.1,0.2,0.3,0.4,0.6,0.7,0.8,0.9,1]))\n",
    "#bins = [0,0.5,1,3,4,5,20,40,90,130]"
   ]
  },
  {
   "cell_type": "code",
   "execution_count": null,
   "metadata": {},
   "outputs": [],
   "source": [
    "m = folium.Map(location=[48, -102], zoom_start=3)\n",
    "folium.Choropleth(\n",
    "    geo_data=country_geo,\n",
    "    name='choropleth',\n",
    "    data=present_day_df,\n",
    "    columns=[present_day_df.index,'deaths_per_100k'],\n",
    "    key_on='properties.iso_a3',\n",
    "    fill_color='OrRd',\n",
    "    fill_opacity=0.5,\n",
    "    line_opacity=0.2,\n",
    "    legend_name='pop',\n",
    "    bins=bins,\n",
    "    reset=True\n",
    ").add_to(m)"
   ]
  },
  {
   "cell_type": "code",
   "execution_count": null,
   "metadata": {},
   "outputs": [],
   "source": [
    "m"
   ]
  },
  {
   "cell_type": "code",
   "execution_count": null,
   "metadata": {},
   "outputs": [],
   "source": [
    "t_data = tourism_data[['Country Name','Country Code', '2018']]"
   ]
  },
  {
   "cell_type": "code",
   "execution_count": null,
   "metadata": {},
   "outputs": [],
   "source": [
    "t_data.set_index('Country Code',inplace=True)"
   ]
  },
  {
   "cell_type": "code",
   "execution_count": null,
   "metadata": {},
   "outputs": [],
   "source": [
    "t_data = t_data.drop(index=['WLD','HIC','OED','PST','ECS','IBT','LMY','EUU','MIC','IBD','EMU','UMC','LTE','EAS','EAR','TEC','EAP','TEA','ECA','LMC','LCN','MEA','ARB','NAC','TLA','CEB','LAC','MNA','TMN','SST','OSS','LDC','TSA','SAS'])"
   ]
  },
  {
   "cell_type": "code",
   "execution_count": null,
   "metadata": {},
   "outputs": [],
   "source": [
    "for i in range(1,len(t_data)):\n",
    "    country_code = t_data.iloc[i].name\n",
    "    if (country_code in new_df.index):\n",
    "        tourists_total = t_data.iloc[i,t_data.columns.get_loc('2018')]\n",
    "        new_df.loc[[country_code],['tourists_per_100k']] = (tourists_total / new_df.loc[country_code]['popData2018']).round(3)"
   ]
  },
  {
   "cell_type": "code",
   "execution_count": null,
   "metadata": {},
   "outputs": [],
   "source": [
    "new_df.corr()"
   ]
  }
 ],
 "metadata": {
  "kernelspec": {
   "display_name": "Python 3",
   "language": "python",
   "name": "python3"
  },
  "language_info": {
   "codemirror_mode": {
    "name": "ipython",
    "version": 3
   },
   "file_extension": ".py",
   "mimetype": "text/x-python",
   "name": "python",
   "nbconvert_exporter": "python",
   "pygments_lexer": "ipython3",
   "version": "3.5.1"
  }
 },
 "nbformat": 4,
 "nbformat_minor": 4
}
