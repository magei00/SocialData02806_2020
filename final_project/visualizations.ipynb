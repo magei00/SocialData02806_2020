{
 "cells": [
  {
   "cell_type": "code",
   "execution_count": 1,
   "metadata": {},
   "outputs": [],
   "source": [
    "import numpy as np\n",
    "import pandas as pd\n",
    "import folium\n",
    "import matplotlib.pyplot as plt\n",
    "import seaborn as sns\n",
    "import matplotlib\n",
    "import matplotlib.animation as animation\n",
    "\n",
    "country_geo = 'datasets/all_countries.geo.json'"
   ]
  },
  {
   "cell_type": "code",
   "execution_count": null,
   "metadata": {},
   "outputs": [],
   "source": [
    "bins = list(present_day['cases_per_100k'].quantile([0, 0.2, 0.4, 0.6,0.7,0.9, 1]))"
   ]
  },
  {
   "cell_type": "code",
   "execution_count": null,
   "metadata": {},
   "outputs": [],
   "source": [
    "m = folium.Map(location=[48, -102], zoom_start=3)\n",
    "folium.Choropleth(\n",
    "    geo_data=country_geo,\n",
    "    name='choropleth',\n",
    "    data=present_day,\n",
    "    columns=[present_day.index,'cases_per_100k'],\n",
    "    key_on='properties.iso_a3',\n",
    "    fill_color='OrRd',\n",
    "    fill_opacity=0.5,\n",
    "    line_opacity=0.2,\n",
    "    bins=bins,\n",
    "    legend_name='cases_per_100k'\n",
    ").add_to(m)"
   ]
  },
  {
   "cell_type": "code",
   "execution_count": null,
   "metadata": {},
   "outputs": [],
   "source": [
    "m"
   ]
  },
  {
   "cell_type": "code",
   "execution_count": null,
   "metadata": {},
   "outputs": [],
   "source": [
    "bins = list(current_day['pop_percentage_over_65'].quantile([0, 0.2, 0.4, 0.6,0.7,0.9, 1]))\n",
    "\n",
    "m2 = folium.Map(location=[48, -102], zoom_start=3)\n",
    "folium.Choropleth(\n",
    "    geo_data=country_geo,\n",
    "    name='age',\n",
    "    data=present_day,\n",
    "    columns=[current_day.index,'pop_percentage_over_65'],\n",
    "    key_on='properties.iso_a3',\n",
    "    fill_color='OrRd',\n",
    "    fill_opacity=0.5,\n",
    "    line_opacity=0.2,\n",
    "    bins=bins,\n",
    "    legend_name='pop_percentage_over_65',\n",
    "    show = False\n",
    ").add_to(m2)\n"
   ]
  },
  {
   "cell_type": "code",
   "execution_count": null,
   "metadata": {},
   "outputs": [],
   "source": [
    "m2.save(\"../Final project/website/folium/map2.html\")"
   ]
  }
 ],
 "metadata": {
  "kernelspec": {
   "display_name": "Python 3",
   "language": "python",
   "name": "python3"
  },
  "language_info": {
   "codemirror_mode": {
    "name": "ipython",
    "version": 3
   },
   "file_extension": ".py",
   "mimetype": "text/x-python",
   "name": "python",
   "nbconvert_exporter": "python",
   "pygments_lexer": "ipython3",
   "version": "3.5.1"
  }
 },
 "nbformat": 4,
 "nbformat_minor": 4
}
