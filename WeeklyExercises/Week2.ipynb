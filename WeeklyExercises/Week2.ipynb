{
 "cells": [
  {
   "cell_type": "code",
   "execution_count": 1,
   "metadata": {},
   "outputs": [],
   "source": [
    "from urllib.request import urlopen\n",
    "import numpy as np\n",
    "import pandas as pd\n",
    "from scipy import stats\n",
    "import matplotlib.pyplot as plt"
   ]
  },
  {
   "cell_type": "code",
   "execution_count": 2,
   "metadata": {},
   "outputs": [],
   "source": [
    "plt.style.use('seaborn')\n",
    "columns = ['x', 'y']"
   ]
  },
  {
   "cell_type": "code",
   "execution_count": 3,
   "metadata": {},
   "outputs": [],
   "source": [
    "data1 = pd.read_csv('https://raw.githubusercontent.com/suneman/socialdataanalysis2020/master/files/data1.tsv', sep='\\t', names=columns).to_numpy()\n",
    "data2 = pd.read_csv('https://raw.githubusercontent.com/suneman/socialdataanalysis2020/master/files/data2.tsv', sep='\\t', names=columns).to_numpy()\n",
    "data3 = pd.read_csv('https://raw.githubusercontent.com/suneman/socialdataanalysis2020/master/files/data3.tsv', sep='\\t', names=columns).to_numpy()\n",
    "data4 = pd.read_csv('https://raw.githubusercontent.com/suneman/socialdataanalysis2020/master/files/data4.tsv', sep='\\t', names=columns).to_numpy()"
   ]
  },
  {
   "cell_type": "code",
   "execution_count": 4,
   "metadata": {},
   "outputs": [],
   "source": [
    "data_sets = {'data_set1': data1, 'data_set2' : data2, 'data_set3' : data3, 'data_set4' : data4}"
   ]
  },
  {
   "cell_type": "code",
   "execution_count": null,
   "metadata": {},
   "outputs": [],
   "source": [
    "for key in data_sets:\n",
    "    mean = data_sets[key].mean(axis=0)\n",
    "    x = \"{:10.2f}\".format(mean[0])\n",
    "    y = \"{:10.2f}\".format(mean[1])\n",
    "    print('Mean value of x for ' + key + ': ' + x)\n",
    "    print('Mean value of y for ' + key + ': ' + y)\n",
    "    print('-------------')"
   ]
  },
  {
   "cell_type": "code",
   "execution_count": null,
   "metadata": {},
   "outputs": [],
   "source": [
    "for key in data_sets:\n",
    "    variance = data_sets[key].var(axis=0)\n",
    "    x = variance[0]\n",
    "    y = variance[1]\n",
    "    print('Variance of x in dataset ' + key + \"{:10.3f}\".format(x))\n",
    "    print('Variance of y in dataset ' + key + \"{:10.3f}\".format(y))\n",
    "    print('------------')"
   ]
  },
  {
   "cell_type": "code",
   "execution_count": null,
   "metadata": {},
   "outputs": [],
   "source": [
    "for key in data_sets:\n",
    "    df = pd.DataFrame(data_sets[key], columns=['x', 'y'])\n",
    "    print('Correlation for ' + key)\n",
    "    print(df.corr())\n",
    "    print('-----------')"
   ]
  },
  {
   "cell_type": "code",
   "execution_count": null,
   "metadata": {},
   "outputs": [],
   "source": [
    "for key in data_sets:\n",
    "    x = data_sets[key][ :, 0]\n",
    "    y = data_sets[key][ :, 1]\n",
    "    corr = np.corrcoef(x,y).round(decimals=3)\n",
    "    print('Pearson coef for ' + key)\n",
    "    print(corr)"
   ]
  },
  {
   "cell_type": "code",
   "execution_count": null,
   "metadata": {},
   "outputs": [],
   "source": [
    "for key in data_sets:\n",
    "    x = data_sets[key][ :, 0]\n",
    "    y = data_sets[key][ :, 1]\n",
    "    slope, intercept, r_value, p_value, std_err = stats.linregress(x,y)\n",
    "    print('Intercept and slope for ' + key)\n",
    "    print('a: ' + str(round(slope, 2)))\n",
    "    print('b: ' + str(round(intercept,2)))\n",
    "    print('-----------')\n",
    "    \n"
   ]
  },
  {
   "cell_type": "code",
   "execution_count": 71,
   "metadata": {},
   "outputs": [],
   "source": [
    "x_1 = data_sets['data_set1'][ :, 0] \n",
    "y_1 = data_sets['data_set1'][ :, 1]    \n",
    "slope_1, intercept_1, r_value, p_value, std_err = stats.linregress(x_1,y_1)\n",
    "\n",
    "x_2 = data_sets['data_set2'][ :, 0]    \n",
    "y_2 = data_sets['data_set2'][ :, 1] \n",
    "\n",
    "x_3 = data_sets['data_set3'][ :, 0]    \n",
    "y_3 = data_sets['data_set3'][ :, 1] \n",
    "\n",
    "x_4 = data_sets['data_set4'][ :, 0]    \n",
    "y_4 = data_sets['data_set4'][ :, 1] \n",
    "\n",
    "\n",
    "#m, b = np.polyfit(x_2, y_2, 1)"
   ]
  },
  {
   "cell_type": "code",
   "execution_count": 73,
   "metadata": {},
   "outputs": [
    {
     "data": {
      "text/plain": [
       "(0, 20)"
      ]
     },
     "execution_count": 73,
     "metadata": {},
     "output_type": "execute_result"
    },
    {
     "data": {
      "image/png": "[encoded data removed]",
      "text/plain": [
       "<Figure size 576x396 with 4 Axes>"
      ]
     },
     "metadata": {},
     "output_type": "display_data"
    }
   ],
   "source": [
    "fig, (col1,col2) = plt.subplots(nrows=2, ncols=2)\n",
    "ax1 = col1[0]\n",
    "ax2 = col1[1]\n",
    "ax3 = col2[0]\n",
    "ax4 = col2[1]\n",
    "\n",
    "ax1.scatter(x_1,y_1, label='dataset 1')\n",
    "#m, b = np.polyfit(x_1, y_1, 1)\n",
    "ax1.plot(x_1, intercept_1 + slope_1*x_1, 'r')\n",
    "ax1.set_ylim(2,14)\n",
    "ax1.set_xlim(0,20)\n",
    "\n",
    "ax2.scatter(x_2,y_2, label='dataset 2')\n",
    "m, b = np.polyfit(x_2, y_2, 1)\n",
    "ax2.plot(x_2, m*x_2 + b, 'r')\n",
    "ax2.set_ylim(2,14)\n",
    "ax2.set_xlim(0,20)\n",
    "\n",
    "ax3.scatter(x_3,y_3, label='dataset 3')\n",
    "m, b = np.polyfit(x_3, y_3, 1)\n",
    "ax3.plot(x_3, m*x_3 + b, 'r')\n",
    "ax3.set_ylim(2,14)\n",
    "ax3.set_xlim(0,20)\n",
    "\n",
    "ax4.scatter(x_4,y_4, label='dataset 4')\n",
    "m, b = np.polyfit(x_4, y_4, 1)\n",
    "ax4.plot(x_4, m*x_4 + b, 'r')\n",
    "ax4.set_ylim(2,14)\n",
    "ax4.set_xlim(0,20)\n",
    "\n",
    "#plt.plot(x, m*x+b,'r')"
   ]
  },
  {
   "cell_type": "markdown",
   "metadata": {},
   "source": [
    "The point of this exercise is to show how to manipulate simple numpy arrays; get the mean, correlation, variance etc, and how to plot several plots at once. Call it the beginning steps towards more complex and meaningful data analysis. "
   ]
  },
  {
   "cell_type": "code",
   "execution_count": null,
   "metadata": {},
   "outputs": [],
   "source": []
  }
 ],
 "metadata": {
  "kernelspec": {
   "display_name": "Python 3",
   "language": "python",
   "name": "python3"
  },
  "language_info": {
   "codemirror_mode": {
    "name": "ipython",
    "version": 3
   },
   "file_extension": ".py",
   "mimetype": "text/x-python",
   "name": "python",
   "nbconvert_exporter": "python",
   "pygments_lexer": "ipython3",
   "version": "3.5.1"
  }
 },
 "nbformat": 4,
 "nbformat_minor": 4
}
